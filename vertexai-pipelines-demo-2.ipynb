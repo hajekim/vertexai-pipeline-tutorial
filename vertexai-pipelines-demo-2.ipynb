{
 "cells": [
  {
   "cell_type": "markdown",
   "id": "1bdd4fa0-5c8c-474b-aaab-afe251c34e63",
   "metadata": {},
   "source": [
    "# Vertex AI Pipelines 데모 2"
   ]
  },
  {
   "cell_type": "markdown",
   "id": "b8fabf3b-c9dc-474e-8087-893c40c3636e",
   "metadata": {},
   "source": [
    "## 1. 라이브러리 준비"
   ]
  },
  {
   "cell_type": "code",
   "execution_count": 3,
   "id": "c38c94ad-a72d-415f-8d0d-0bfdff4616c5",
   "metadata": {},
   "outputs": [],
   "source": [
    "USER_FLAG = \"--user\""
   ]
  },
  {
   "cell_type": "code",
   "execution_count": 4,
   "id": "eb483d5a-e238-4003-a05e-8147c1a15de4",
   "metadata": {},
   "outputs": [
    {
     "name": "stdout",
     "output_type": "stream",
     "text": [
      "Collecting google-cloud-aiplatform==1.7.0\n",
      "  Downloading google_cloud_aiplatform-1.7.0-py2.py3-none-any.whl (1.6 MB)\n",
      "\u001b[2K     \u001b[90m━━━━━━━━━━━━━━━━━━━━━━━━━━━━━━━━━━━━━━━━\u001b[0m \u001b[32m1.6/1.6 MB\u001b[0m \u001b[31m20.7 MB/s\u001b[0m eta \u001b[36m0:00:00\u001b[0m00:01\u001b[0m00:01\u001b[0m\n",
      "\u001b[?25hRequirement already satisfied: packaging>=14.3 in /home/jupyter/.local/lib/python3.7/site-packages (from google-cloud-aiplatform==1.7.0) (21.3)\n",
      "Collecting google-cloud-storage<2.0.0dev,>=1.32.0\n",
      "  Using cached google_cloud_storage-1.44.0-py2.py3-none-any.whl (106 kB)\n",
      "Requirement already satisfied: google-api-core[grpc]<3.0.0dev,>=1.26.0 in /home/jupyter/.local/lib/python3.7/site-packages (from google-cloud-aiplatform==1.7.0) (2.8.2)\n",
      "Requirement already satisfied: proto-plus>=1.10.1 in /home/jupyter/.local/lib/python3.7/site-packages (from google-cloud-aiplatform==1.7.0) (1.22.1)\n",
      "Requirement already satisfied: google-cloud-bigquery<3.0.0dev,>=1.15.0 in /home/jupyter/.local/lib/python3.7/site-packages (from google-cloud-aiplatform==1.7.0) (2.34.4)\n",
      "Requirement already satisfied: google-auth<3.0dev,>=1.25.0 in /home/jupyter/.local/lib/python3.7/site-packages (from google-api-core[grpc]<3.0.0dev,>=1.26.0->google-cloud-aiplatform==1.7.0) (1.35.0)\n",
      "Requirement already satisfied: requests<3.0.0dev,>=2.18.0 in /home/jupyter/.local/lib/python3.7/site-packages (from google-api-core[grpc]<3.0.0dev,>=1.26.0->google-cloud-aiplatform==1.7.0) (2.28.1)\n",
      "Requirement already satisfied: protobuf<5.0.0dev,>=3.15.0 in /home/jupyter/.local/lib/python3.7/site-packages (from google-api-core[grpc]<3.0.0dev,>=1.26.0->google-cloud-aiplatform==1.7.0) (3.19.5)\n",
      "Requirement already satisfied: googleapis-common-protos<2.0dev,>=1.56.2 in /home/jupyter/.local/lib/python3.7/site-packages (from google-api-core[grpc]<3.0.0dev,>=1.26.0->google-cloud-aiplatform==1.7.0) (1.56.4)\n",
      "Requirement already satisfied: grpcio<2.0dev,>=1.33.2 in /home/jupyter/.local/lib/python3.7/site-packages (from google-api-core[grpc]<3.0.0dev,>=1.26.0->google-cloud-aiplatform==1.7.0) (1.49.0)\n",
      "Requirement already satisfied: grpcio-status<2.0dev,>=1.33.2 in /home/jupyter/.local/lib/python3.7/site-packages (from google-api-core[grpc]<3.0.0dev,>=1.26.0->google-cloud-aiplatform==1.7.0) (1.48.1)\n",
      "Requirement already satisfied: google-cloud-core<3.0.0dev,>=1.4.1 in /home/jupyter/.local/lib/python3.7/site-packages (from google-cloud-bigquery<3.0.0dev,>=1.15.0->google-cloud-aiplatform==1.7.0) (2.3.2)\n",
      "Requirement already satisfied: python-dateutil<3.0dev,>=2.7.2 in /home/jupyter/.local/lib/python3.7/site-packages (from google-cloud-bigquery<3.0.0dev,>=1.15.0->google-cloud-aiplatform==1.7.0) (2.8.2)\n",
      "Requirement already satisfied: google-resumable-media<3.0dev,>=0.6.0 in /home/jupyter/.local/lib/python3.7/site-packages (from google-cloud-bigquery<3.0.0dev,>=1.15.0->google-cloud-aiplatform==1.7.0) (2.3.3)\n",
      "Requirement already satisfied: six in /home/jupyter/.local/lib/python3.7/site-packages (from google-cloud-storage<2.0.0dev,>=1.32.0->google-cloud-aiplatform==1.7.0) (1.16.0)\n",
      "Requirement already satisfied: pyparsing!=3.0.5,>=2.0.2 in /home/jupyter/.local/lib/python3.7/site-packages (from packaging>=14.3->google-cloud-aiplatform==1.7.0) (3.0.9)\n",
      "Requirement already satisfied: rsa<5,>=3.1.4 in /home/jupyter/.local/lib/python3.7/site-packages (from google-auth<3.0dev,>=1.25.0->google-api-core[grpc]<3.0.0dev,>=1.26.0->google-cloud-aiplatform==1.7.0) (4.9)\n",
      "Requirement already satisfied: setuptools>=40.3.0 in /home/jupyter/.local/lib/python3.7/site-packages (from google-auth<3.0dev,>=1.25.0->google-api-core[grpc]<3.0.0dev,>=1.26.0->google-cloud-aiplatform==1.7.0) (65.3.0)\n",
      "Requirement already satisfied: cachetools<5.0,>=2.0.0 in /home/jupyter/.local/lib/python3.7/site-packages (from google-auth<3.0dev,>=1.25.0->google-api-core[grpc]<3.0.0dev,>=1.26.0->google-cloud-aiplatform==1.7.0) (4.2.4)\n",
      "Requirement already satisfied: pyasn1-modules>=0.2.1 in /home/jupyter/.local/lib/python3.7/site-packages (from google-auth<3.0dev,>=1.25.0->google-api-core[grpc]<3.0.0dev,>=1.26.0->google-cloud-aiplatform==1.7.0) (0.2.8)\n",
      "Requirement already satisfied: google-crc32c<2.0dev,>=1.0 in /home/jupyter/.local/lib/python3.7/site-packages (from google-resumable-media<3.0dev,>=0.6.0->google-cloud-bigquery<3.0.0dev,>=1.15.0->google-cloud-aiplatform==1.7.0) (1.5.0)\n",
      "Requirement already satisfied: idna<4,>=2.5 in /home/jupyter/.local/lib/python3.7/site-packages (from requests<3.0.0dev,>=2.18.0->google-api-core[grpc]<3.0.0dev,>=1.26.0->google-cloud-aiplatform==1.7.0) (3.4)\n",
      "Requirement already satisfied: certifi>=2017.4.17 in /home/jupyter/.local/lib/python3.7/site-packages (from requests<3.0.0dev,>=2.18.0->google-api-core[grpc]<3.0.0dev,>=1.26.0->google-cloud-aiplatform==1.7.0) (2022.9.14)\n",
      "Requirement already satisfied: urllib3<1.27,>=1.21.1 in /home/jupyter/.local/lib/python3.7/site-packages (from requests<3.0.0dev,>=2.18.0->google-api-core[grpc]<3.0.0dev,>=1.26.0->google-cloud-aiplatform==1.7.0) (1.26.12)\n",
      "Requirement already satisfied: charset-normalizer<3,>=2 in /home/jupyter/.local/lib/python3.7/site-packages (from requests<3.0.0dev,>=2.18.0->google-api-core[grpc]<3.0.0dev,>=1.26.0->google-cloud-aiplatform==1.7.0) (2.1.1)\n",
      "Requirement already satisfied: pyasn1<0.5.0,>=0.4.6 in /home/jupyter/.local/lib/python3.7/site-packages (from pyasn1-modules>=0.2.1->google-auth<3.0dev,>=1.25.0->google-api-core[grpc]<3.0.0dev,>=1.26.0->google-cloud-aiplatform==1.7.0) (0.4.8)\n",
      "Installing collected packages: google-cloud-storage, google-cloud-aiplatform\n",
      "  Attempting uninstall: google-cloud-storage\n",
      "    Found existing installation: google-cloud-storage 2.5.0\n",
      "    Uninstalling google-cloud-storage-2.5.0:\n",
      "      Successfully uninstalled google-cloud-storage-2.5.0\n",
      "  Attempting uninstall: google-cloud-aiplatform\n",
      "    Found existing installation: google-cloud-aiplatform 1.17.1\n",
      "    Uninstalling google-cloud-aiplatform-1.17.1:\n",
      "      Successfully uninstalled google-cloud-aiplatform-1.17.1\n",
      "\u001b[33m  WARNING: The script tb-gcp-uploader is installed in '/home/jupyter/.local/bin' which is not on PATH.\n",
      "  Consider adding this directory to PATH or, if you prefer to suppress this warning, use --no-warn-script-location.\u001b[0m\u001b[33m\n",
      "\u001b[0m\u001b[31mERROR: pip's dependency resolver does not currently take into account all the packages that are installed. This behaviour is the source of the following dependency conflicts.\n",
      "google-cloud-pipeline-components 1.0.21 requires google-cloud-aiplatform<2,>=1.11.0, but you have google-cloud-aiplatform 1.7.0 which is incompatible.\u001b[0m\u001b[31m\n",
      "\u001b[0mSuccessfully installed google-cloud-aiplatform-1.7.0 google-cloud-storage-1.44.0\n",
      "Collecting kfp==1.8.9\n",
      "  Downloading kfp-1.8.9.tar.gz (296 kB)\n",
      "\u001b[2K     \u001b[90m━━━━━━━━━━━━━━━━━━━━━━━━━━━━━━━━━━━━━━━\u001b[0m \u001b[32m296.3/296.3 kB\u001b[0m \u001b[31m7.8 MB/s\u001b[0m eta \u001b[36m0:00:00\u001b[0ma \u001b[36m0:00:01\u001b[0m\n",
      "\u001b[?25h  Preparing metadata (setup.py) ... \u001b[?25ldone\n",
      "\u001b[?25hCollecting google-cloud-pipeline-components==0.2.0\n",
      "  Downloading google_cloud_pipeline_components-0.2.0-py3-none-any.whl (135 kB)\n",
      "\u001b[2K     \u001b[90m━━━━━━━━━━━━━━━━━━━━━━━━━━━━━━━━━━━━━━\u001b[0m \u001b[32m135.0/135.0 kB\u001b[0m \u001b[31m15.1 MB/s\u001b[0m eta \u001b[36m0:00:00\u001b[0m\n",
      "\u001b[?25hCollecting absl-py<=0.11,>=0.9\n",
      "  Downloading absl_py-0.11.0-py3-none-any.whl (127 kB)\n",
      "\u001b[2K     \u001b[90m━━━━━━━━━━━━━━━━━━━━━━━━━━━━━━━━━━━━━━\u001b[0m \u001b[32m127.8/127.8 kB\u001b[0m \u001b[31m14.9 MB/s\u001b[0m eta \u001b[36m0:00:00\u001b[0m\n",
      "\u001b[?25hRequirement already satisfied: PyYAML<6,>=5.3 in /home/jupyter/.local/lib/python3.7/site-packages (from kfp==1.8.9) (5.4.1)\n",
      "Requirement already satisfied: google-cloud-storage<2,>=1.20.0 in /home/jupyter/.local/lib/python3.7/site-packages (from kfp==1.8.9) (1.44.0)\n",
      "Requirement already satisfied: kubernetes<19,>=8.0.0 in /home/jupyter/.local/lib/python3.7/site-packages (from kfp==1.8.9) (18.20.0)\n",
      "Requirement already satisfied: google-api-python-client<2,>=1.7.8 in /home/jupyter/.local/lib/python3.7/site-packages (from kfp==1.8.9) (1.12.11)\n",
      "Requirement already satisfied: google-auth<2,>=1.6.1 in /home/jupyter/.local/lib/python3.7/site-packages (from kfp==1.8.9) (1.35.0)\n",
      "Requirement already satisfied: requests-toolbelt<1,>=0.8.0 in /home/jupyter/.local/lib/python3.7/site-packages (from kfp==1.8.9) (0.9.1)\n",
      "Requirement already satisfied: cloudpickle<3,>=2.0.0 in /home/jupyter/.local/lib/python3.7/site-packages (from kfp==1.8.9) (2.2.0)\n",
      "Requirement already satisfied: kfp-server-api<2.0.0,>=1.1.2 in /home/jupyter/.local/lib/python3.7/site-packages (from kfp==1.8.9) (1.8.5)\n",
      "Requirement already satisfied: jsonschema<4,>=3.0.1 in /home/jupyter/.local/lib/python3.7/site-packages (from kfp==1.8.9) (3.2.0)\n",
      "Requirement already satisfied: tabulate<1,>=0.8.6 in /home/jupyter/.local/lib/python3.7/site-packages (from kfp==1.8.9) (0.8.10)\n",
      "Requirement already satisfied: click<9,>=7.1.2 in /home/jupyter/.local/lib/python3.7/site-packages (from kfp==1.8.9) (8.1.3)\n",
      "Requirement already satisfied: Deprecated<2,>=1.2.7 in /home/jupyter/.local/lib/python3.7/site-packages (from kfp==1.8.9) (1.2.13)\n",
      "Requirement already satisfied: strip-hints<1,>=0.1.8 in /home/jupyter/.local/lib/python3.7/site-packages (from kfp==1.8.9) (0.1.10)\n",
      "Requirement already satisfied: docstring-parser<1,>=0.7.3 in /home/jupyter/.local/lib/python3.7/site-packages (from kfp==1.8.9) (0.15)\n",
      "Requirement already satisfied: kfp-pipeline-spec<0.2.0,>=0.1.13 in /home/jupyter/.local/lib/python3.7/site-packages (from kfp==1.8.9) (0.1.16)\n",
      "Requirement already satisfied: fire<1,>=0.3.1 in /home/jupyter/.local/lib/python3.7/site-packages (from kfp==1.8.9) (0.4.0)\n",
      "Requirement already satisfied: protobuf<4,>=3.13.0 in /home/jupyter/.local/lib/python3.7/site-packages (from kfp==1.8.9) (3.19.5)\n",
      "Requirement already satisfied: uritemplate<4,>=3.0.1 in /home/jupyter/.local/lib/python3.7/site-packages (from kfp==1.8.9) (3.0.1)\n",
      "Requirement already satisfied: pydantic<2,>=1.8.2 in /home/jupyter/.local/lib/python3.7/site-packages (from kfp==1.8.9) (1.10.2)\n",
      "Requirement already satisfied: typer<1.0,>=0.3.2 in /home/jupyter/.local/lib/python3.7/site-packages (from kfp==1.8.9) (0.6.1)\n",
      "Collecting typing-extensions<4,>=3.7.4\n",
      "  Downloading typing_extensions-3.10.0.2-py3-none-any.whl (26 kB)\n",
      "Requirement already satisfied: google-cloud-aiplatform>=1.4.3 in /home/jupyter/.local/lib/python3.7/site-packages (from google-cloud-pipeline-components==0.2.0) (1.7.0)\n",
      "Requirement already satisfied: google-cloud-notebooks>=0.4.0 in /home/jupyter/.local/lib/python3.7/site-packages (from google-cloud-pipeline-components==0.2.0) (1.4.2)\n",
      "Collecting google-api-core<2dev,>=1.26.0\n",
      "  Downloading google_api_core-1.33.1-py3-none-any.whl (115 kB)\n",
      "\u001b[2K     \u001b[90m━━━━━━━━━━━━━━━━━━━━━━━━━━━━━━━━━━━━━━\u001b[0m \u001b[32m115.5/115.5 kB\u001b[0m \u001b[31m13.4 MB/s\u001b[0m eta \u001b[36m0:00:00\u001b[0m\n",
      "\u001b[?25hRequirement already satisfied: six in /home/jupyter/.local/lib/python3.7/site-packages (from absl-py<=0.11,>=0.9->kfp==1.8.9) (1.16.0)\n",
      "Requirement already satisfied: importlib-metadata in /home/jupyter/.local/lib/python3.7/site-packages (from click<9,>=7.1.2->kfp==1.8.9) (4.12.0)\n",
      "Requirement already satisfied: wrapt<2,>=1.10 in /home/jupyter/.local/lib/python3.7/site-packages (from Deprecated<2,>=1.2.7->kfp==1.8.9) (1.14.1)\n",
      "Requirement already satisfied: termcolor in /home/jupyter/.local/lib/python3.7/site-packages (from fire<1,>=0.3.1->kfp==1.8.9) (2.0.1)\n",
      "Requirement already satisfied: requests<3.0.0dev,>=2.18.0 in /home/jupyter/.local/lib/python3.7/site-packages (from google-api-core<2dev,>=1.26.0->google-cloud-pipeline-components==0.2.0) (2.28.1)\n",
      "Requirement already satisfied: googleapis-common-protos<2.0dev,>=1.56.2 in /home/jupyter/.local/lib/python3.7/site-packages (from google-api-core<2dev,>=1.26.0->google-cloud-pipeline-components==0.2.0) (1.56.4)\n",
      "Collecting protobuf<4,>=3.13.0\n",
      "  Downloading protobuf-3.20.2-cp37-cp37m-manylinux_2_5_x86_64.manylinux1_x86_64.whl (1.0 MB)\n",
      "\u001b[2K     \u001b[90m━━━━━━━━━━━━━━━━━━━━━━━━━━━━━━━━━━━━━━━━\u001b[0m \u001b[32m1.0/1.0 MB\u001b[0m \u001b[31m34.3 MB/s\u001b[0m eta \u001b[36m0:00:00\u001b[0m\n",
      "\u001b[?25hRequirement already satisfied: httplib2<1dev,>=0.15.0 in /home/jupyter/.local/lib/python3.7/site-packages (from google-api-python-client<2,>=1.7.8->kfp==1.8.9) (0.20.4)\n",
      "Requirement already satisfied: google-auth-httplib2>=0.0.3 in /home/jupyter/.local/lib/python3.7/site-packages (from google-api-python-client<2,>=1.7.8->kfp==1.8.9) (0.1.0)\n",
      "Requirement already satisfied: pyasn1-modules>=0.2.1 in /home/jupyter/.local/lib/python3.7/site-packages (from google-auth<2,>=1.6.1->kfp==1.8.9) (0.2.8)\n",
      "Requirement already satisfied: setuptools>=40.3.0 in /home/jupyter/.local/lib/python3.7/site-packages (from google-auth<2,>=1.6.1->kfp==1.8.9) (65.3.0)\n",
      "Requirement already satisfied: cachetools<5.0,>=2.0.0 in /home/jupyter/.local/lib/python3.7/site-packages (from google-auth<2,>=1.6.1->kfp==1.8.9) (4.2.4)\n",
      "Requirement already satisfied: rsa<5,>=3.1.4 in /home/jupyter/.local/lib/python3.7/site-packages (from google-auth<2,>=1.6.1->kfp==1.8.9) (4.9)\n",
      "Requirement already satisfied: proto-plus>=1.10.1 in /home/jupyter/.local/lib/python3.7/site-packages (from google-cloud-aiplatform>=1.4.3->google-cloud-pipeline-components==0.2.0) (1.22.1)\n",
      "Requirement already satisfied: google-cloud-bigquery<3.0.0dev,>=1.15.0 in /home/jupyter/.local/lib/python3.7/site-packages (from google-cloud-aiplatform>=1.4.3->google-cloud-pipeline-components==0.2.0) (2.34.4)\n",
      "Requirement already satisfied: google-api-core[grpc]<3.0.0dev,>=1.26.0 in /home/jupyter/.local/lib/python3.7/site-packages (from google-cloud-aiplatform>=1.4.3->google-cloud-pipeline-components==0.2.0) (2.8.2)\n",
      "Requirement already satisfied: packaging>=14.3 in /home/jupyter/.local/lib/python3.7/site-packages (from google-cloud-aiplatform>=1.4.3->google-cloud-pipeline-components==0.2.0) (21.3)\n",
      "Requirement already satisfied: google-resumable-media<3.0dev,>=1.3.0 in /home/jupyter/.local/lib/python3.7/site-packages (from google-cloud-storage<2,>=1.20.0->kfp==1.8.9) (2.3.3)\n",
      "Requirement already satisfied: google-cloud-core<3.0dev,>=1.6.0 in /home/jupyter/.local/lib/python3.7/site-packages (from google-cloud-storage<2,>=1.20.0->kfp==1.8.9) (2.3.2)\n",
      "Requirement already satisfied: pyrsistent>=0.14.0 in /home/jupyter/.local/lib/python3.7/site-packages (from jsonschema<4,>=3.0.1->kfp==1.8.9) (0.18.1)\n",
      "Requirement already satisfied: attrs>=17.4.0 in /home/jupyter/.local/lib/python3.7/site-packages (from jsonschema<4,>=3.0.1->kfp==1.8.9) (22.1.0)\n",
      "Requirement already satisfied: urllib3>=1.15 in /home/jupyter/.local/lib/python3.7/site-packages (from kfp-server-api<2.0.0,>=1.1.2->kfp==1.8.9) (1.26.12)\n",
      "Requirement already satisfied: python-dateutil in /home/jupyter/.local/lib/python3.7/site-packages (from kfp-server-api<2.0.0,>=1.1.2->kfp==1.8.9) (2.8.2)\n",
      "Requirement already satisfied: certifi in /home/jupyter/.local/lib/python3.7/site-packages (from kfp-server-api<2.0.0,>=1.1.2->kfp==1.8.9) (2022.9.14)\n",
      "Requirement already satisfied: requests-oauthlib in /home/jupyter/.local/lib/python3.7/site-packages (from kubernetes<19,>=8.0.0->kfp==1.8.9) (1.3.1)\n",
      "Requirement already satisfied: websocket-client!=0.40.0,!=0.41.*,!=0.42.*,>=0.32.0 in /home/jupyter/.local/lib/python3.7/site-packages (from kubernetes<19,>=8.0.0->kfp==1.8.9) (1.4.1)\n",
      "Collecting pydantic<2,>=1.8.2\n",
      "  Downloading pydantic-1.10.1-cp37-cp37m-manylinux_2_17_x86_64.manylinux2014_x86_64.whl (11.8 MB)\n",
      "\u001b[2K     \u001b[90m━━━━━━━━━━━━━━━━━━━━━━━━━━━━━━━━━━━━━━━━\u001b[0m \u001b[32m11.8/11.8 MB\u001b[0m \u001b[31m68.5 MB/s\u001b[0m eta \u001b[36m0:00:00\u001b[0m00:01\u001b[0m00:01\u001b[0m\n",
      "\u001b[?25h  Downloading pydantic-1.10.0-cp37-cp37m-manylinux_2_17_x86_64.manylinux2014_x86_64.whl (11.8 MB)\n",
      "\u001b[2K     \u001b[90m━━━━━━━━━━━━━━━━━━━━━━━━━━━━━━━━━━━━━━━━\u001b[0m \u001b[32m11.8/11.8 MB\u001b[0m \u001b[31m66.4 MB/s\u001b[0m eta \u001b[36m0:00:00\u001b[0m00:01\u001b[0m00:01\u001b[0m\n",
      "\u001b[?25h  Downloading pydantic-1.9.2-cp37-cp37m-manylinux_2_17_x86_64.manylinux2014_x86_64.whl (11.1 MB)\n",
      "\u001b[2K     \u001b[90m━━━━━━━━━━━━━━━━━━━━━━━━━━━━━━━━━━━━━━━━\u001b[0m \u001b[32m11.1/11.1 MB\u001b[0m \u001b[31m60.0 MB/s\u001b[0m eta \u001b[36m0:00:00\u001b[0m00:01\u001b[0m00:01\u001b[0m\n",
      "\u001b[?25hRequirement already satisfied: wheel in /home/jupyter/.local/lib/python3.7/site-packages (from strip-hints<1,>=0.1.8->kfp==1.8.9) (0.37.1)\n",
      "Collecting google-api-core[grpc]<3.0.0dev,>=1.26.0\n",
      "  Using cached google_api_core-2.10.1-py3-none-any.whl (115 kB)\n",
      "  Using cached google_api_core-2.10.0-py3-none-any.whl (115 kB)\n",
      "  Using cached google_api_core-2.9.0-py3-none-any.whl (115 kB)\n",
      "  Downloading google_api_core-2.8.1-py3-none-any.whl (114 kB)\n",
      "\u001b[2K     \u001b[90m━━━━━━━━━━━━━━━━━━━━━━━━━━━━━━━━━━━━━━\u001b[0m \u001b[32m114.7/114.7 kB\u001b[0m \u001b[31m15.2 MB/s\u001b[0m eta \u001b[36m0:00:00\u001b[0m\n",
      "\u001b[?25h  Downloading google_api_core-2.8.0-py3-none-any.whl (114 kB)\n",
      "\u001b[2K     \u001b[90m━━━━━━━━━━━━━━━━━━━━━━━━━━━━━━━━━━━━━━\u001b[0m \u001b[32m114.7/114.7 kB\u001b[0m \u001b[31m14.2 MB/s\u001b[0m eta \u001b[36m0:00:00\u001b[0m\n",
      "\u001b[?25hRequirement already satisfied: grpcio<2.0dev,>=1.33.2 in /home/jupyter/.local/lib/python3.7/site-packages (from google-api-core<2dev,>=1.26.0->google-cloud-pipeline-components==0.2.0) (1.49.0)\n",
      "Requirement already satisfied: grpcio-status<2.0dev,>=1.33.2 in /home/jupyter/.local/lib/python3.7/site-packages (from google-api-core<2dev,>=1.26.0->google-cloud-pipeline-components==0.2.0) (1.48.1)\n",
      "Requirement already satisfied: google-crc32c<2.0dev,>=1.0 in /home/jupyter/.local/lib/python3.7/site-packages (from google-resumable-media<3.0dev,>=1.3.0->google-cloud-storage<2,>=1.20.0->kfp==1.8.9) (1.5.0)\n",
      "Requirement already satisfied: pyparsing!=3.0.0,!=3.0.1,!=3.0.2,!=3.0.3,<4,>=2.4.2 in /home/jupyter/.local/lib/python3.7/site-packages (from httplib2<1dev,>=0.15.0->google-api-python-client<2,>=1.7.8->kfp==1.8.9) (3.0.9)\n",
      "Requirement already satisfied: pyasn1<0.5.0,>=0.4.6 in /home/jupyter/.local/lib/python3.7/site-packages (from pyasn1-modules>=0.2.1->google-auth<2,>=1.6.1->kfp==1.8.9) (0.4.8)\n",
      "Requirement already satisfied: idna<4,>=2.5 in /home/jupyter/.local/lib/python3.7/site-packages (from requests<3.0.0dev,>=2.18.0->google-api-core<2dev,>=1.26.0->google-cloud-pipeline-components==0.2.0) (3.4)\n",
      "Requirement already satisfied: charset-normalizer<3,>=2 in /home/jupyter/.local/lib/python3.7/site-packages (from requests<3.0.0dev,>=2.18.0->google-api-core<2dev,>=1.26.0->google-cloud-pipeline-components==0.2.0) (2.1.1)\n",
      "Requirement already satisfied: zipp>=0.5 in /home/jupyter/.local/lib/python3.7/site-packages (from importlib-metadata->click<9,>=7.1.2->kfp==1.8.9) (3.8.1)\n",
      "Requirement already satisfied: oauthlib>=3.0.0 in /home/jupyter/.local/lib/python3.7/site-packages (from requests-oauthlib->kubernetes<19,>=8.0.0->kfp==1.8.9) (3.2.1)\n",
      "Building wheels for collected packages: kfp\n",
      "  Building wheel for kfp (setup.py) ... \u001b[?25ldone\n",
      "\u001b[?25h  Created wheel for kfp: filename=kfp-1.8.9-py3-none-any.whl size=409625 sha256=1a21dbda7866cff1ec2b1ebec5d4a8ebb683175d67b41bf9ee63060527f129f3\n",
      "  Stored in directory: /home/jupyter/.cache/pip/wheels/0e/20/7e/c2c43249eb0538c5aa2542bcc9b02affb0211ed5617fbd4abc\n",
      "Successfully built kfp\n",
      "Installing collected packages: typing-extensions, pydantic, protobuf, absl-py, google-api-core, kfp, google-cloud-pipeline-components\n",
      "  Attempting uninstall: typing-extensions\n",
      "    Found existing installation: typing_extensions 4.3.0\n",
      "    Uninstalling typing_extensions-4.3.0:\n",
      "      Successfully uninstalled typing_extensions-4.3.0\n",
      "  Attempting uninstall: pydantic\n",
      "    Found existing installation: pydantic 1.10.2\n",
      "    Uninstalling pydantic-1.10.2:\n",
      "      Successfully uninstalled pydantic-1.10.2\n",
      "  Attempting uninstall: protobuf\n",
      "    Found existing installation: protobuf 3.19.5\n",
      "    Uninstalling protobuf-3.19.5:\n",
      "      Successfully uninstalled protobuf-3.19.5\n",
      "  Attempting uninstall: absl-py\n",
      "    Found existing installation: absl-py 1.2.0\n",
      "    Uninstalling absl-py-1.2.0:\n",
      "      Successfully uninstalled absl-py-1.2.0\n",
      "  Attempting uninstall: google-api-core\n",
      "    Found existing installation: google-api-core 2.8.2\n",
      "    Uninstalling google-api-core-2.8.2:\n",
      "      Successfully uninstalled google-api-core-2.8.2\n",
      "  Attempting uninstall: kfp\n",
      "    Found existing installation: kfp 1.8.13\n",
      "    Uninstalling kfp-1.8.13:\n",
      "      Successfully uninstalled kfp-1.8.13\n",
      "\u001b[33m  WARNING: The scripts dsl-compile, dsl-compile-v2 and kfp are installed in '/home/jupyter/.local/bin' which is not on PATH.\n",
      "  Consider adding this directory to PATH or, if you prefer to suppress this warning, use --no-warn-script-location.\u001b[0m\u001b[33m\n",
      "\u001b[0m  Attempting uninstall: google-cloud-pipeline-components\n",
      "    Found existing installation: google-cloud-pipeline-components 1.0.21\n",
      "    Uninstalling google-cloud-pipeline-components-1.0.21:\n",
      "      Successfully uninstalled google-cloud-pipeline-components-1.0.21\n",
      "\u001b[31mERROR: pip's dependency resolver does not currently take into account all the packages that are installed. This behaviour is the source of the following dependency conflicts.\n",
      "tensorflow 2.10.0 requires absl-py>=1.0.0, but you have absl-py 0.11.0 which is incompatible.\n",
      "tensorflow 2.10.0 requires protobuf<3.20,>=3.9.2, but you have protobuf 3.20.2 which is incompatible.\n",
      "tensorboard 2.10.0 requires protobuf<3.20,>=3.9.2, but you have protobuf 3.20.2 which is incompatible.\n",
      "cloud-tpu-client 0.10 requires google-api-python-client==1.8.0, but you have google-api-python-client 1.12.11 which is incompatible.\u001b[0m\u001b[31m\n",
      "\u001b[0mSuccessfully installed absl-py-0.11.0 google-api-core-1.33.1 google-cloud-pipeline-components-0.2.0 kfp-1.8.9 protobuf-3.20.2 pydantic-1.9.2 typing-extensions-3.10.0.2\n"
     ]
    }
   ],
   "source": [
    "!pip3 install {USER_FLAG} google-cloud-aiplatform==1.7.0 --upgrade\n",
    "!pip3 install {USER_FLAG} kfp==1.8.9 google-cloud-pipeline-components==0.2.0"
   ]
  },
  {
   "cell_type": "markdown",
   "id": "314895ba-261a-4400-bde8-69bbc25a1856",
   "metadata": {},
   "source": [
    "### 커널 재시작"
   ]
  },
  {
   "cell_type": "code",
   "execution_count": 5,
   "id": "7b959c57-b154-4b74-af65-613fec04fa23",
   "metadata": {},
   "outputs": [],
   "source": [
    "import os\n",
    "\n",
    "if not os.getenv(\"IS_TESTING\"):\n",
    "    # Automatically restart kernel after installs\n",
    "    import IPython\n",
    "\n",
    "    app = IPython.Application.instance()\n",
    "    app.kernel.do_shutdown(True)"
   ]
  },
  {
   "cell_type": "markdown",
   "id": "82cec73c-6d78-4b94-bc93-8a4932221b13",
   "metadata": {},
   "source": [
    "### Kubeflow Pipeline 버전 확인\n",
    "KFP SDK 버전은 >= 1.8이어야 함  \n",
    "확인을 해보자"
   ]
  },
  {
   "cell_type": "code",
   "execution_count": 1,
   "id": "c55e92de-844a-47fb-832c-e2576ca5213b",
   "metadata": {},
   "outputs": [
    {
     "name": "stdout",
     "output_type": "stream",
     "text": [
      "KFP SDK version: 1.8.9\n",
      "google_cloud_pipeline_components version: 0.2.0\n"
     ]
    }
   ],
   "source": [
    "!python3 -c \"import kfp; print('KFP SDK version: {}'.format(kfp.__version__))\"\n",
    "!python3 -c \"import google_cloud_pipeline_components; print('google_cloud_pipeline_components version: {}'.format(google_cloud_pipeline_components.__version__))\""
   ]
  },
  {
   "cell_type": "markdown",
   "id": "241955cc-d70e-4bbf-8ab5-c96f1d88ccce",
   "metadata": {},
   "source": [
    "## 2. 프로젝트ID 및 GCS 버킷 설정"
   ]
  },
  {
   "cell_type": "code",
   "execution_count": 16,
   "id": "154ff246-0391-460f-8e3b-bccebafd4985",
   "metadata": {},
   "outputs": [],
   "source": [
    "# 프로젝트ID 입력\n",
    "PROJECT_ID = \"seventh-jet-360700\""
   ]
  },
  {
   "cell_type": "code",
   "execution_count": 17,
   "id": "1302d74c-ba19-4729-84f0-bee74d088e42",
   "metadata": {},
   "outputs": [],
   "source": [
    "# GCS 버킷 입력\n",
    "BUCKET_NAME=\"gs://cokebox-ml\""
   ]
  },
  {
   "cell_type": "markdown",
   "id": "9dc92c83-167f-4a4f-9d00-0c493cc9b5ff",
   "metadata": {},
   "source": [
    "## 3. 라이브러리 가져오기"
   ]
  },
  {
   "cell_type": "code",
   "execution_count": 6,
   "id": "0020da7c-86aa-4210-8e8f-4628db81b6ca",
   "metadata": {},
   "outputs": [],
   "source": [
    "from kfp.v2 import compiler, dsl\n",
    "from kfp.v2.dsl import pipeline\n",
    "\n",
    "from google.cloud import aiplatform\n",
    "from google_cloud_pipeline_components import aiplatform as gcc_aip"
   ]
  },
  {
   "cell_type": "markdown",
   "id": "3478e535-7454-4ee8-be20-d226e70ec77d",
   "metadata": {},
   "source": [
    "## 4. KFP 변수 정의 "
   ]
  },
  {
   "cell_type": "code",
   "execution_count": 7,
   "id": "052d6326-4e38-495b-beee-a6fe2b41b0d8",
   "metadata": {},
   "outputs": [
    {
     "name": "stdout",
     "output_type": "stream",
     "text": [
      "env: PATH=/opt/conda/bin:/opt/conda/condabin:/opt/conda/bin:/usr/local/nvidia/bin:/usr/local/cuda/bin:/usr/local/sbin:/usr/local/bin:/usr/sbin:/usr/bin:/sbin:/bin:/home/jupyter/.local/bin\n"
     ]
    },
    {
     "data": {
      "text/plain": [
       "'gs://cokebox-ml/pipeline_root/'"
      ]
     },
     "execution_count": 7,
     "metadata": {},
     "output_type": "execute_result"
    }
   ],
   "source": [
    "PATH=%env PATH\n",
    "%env PATH={PATH}:/home/jupyter/.local/bin\n",
    "REGION=\"us-central1\"\n",
    "\n",
    "PIPELINE_ROOT = f\"{BUCKET_NAME}/pipeline_root/\"\n",
    "PIPELINE_ROOT"
   ]
  },
  {
   "cell_type": "markdown",
   "id": "f3c182b4-a711-459b-b27b-9b3e3be6d36e",
   "metadata": {},
   "source": [
    "## 5. Custom Model 작업 구성 \n",
    "파이프라인을 설정하기 전에 사용자 지정 모델 교육 작업에 대한 코드를 작성해야 합니다. 모델을 훈련시키기 위해 우리는 UCI 머신러닝 [드라이 빈 데이터세트](https://archive.ics.uci.edu/ml/datasets/Dry+Bean+Dataset)를 사용할 것입니다.\n",
    "In Computers and Electronics in Agriculture, 174, 105507. DOI.\n",
    "\n",
    "첫 번째 파이프라인 단계에서는 이 Bean 데이터 버전이 포함된 BigQuery 테이블을 사용하여 Vertex AI에서 관리되는 데이터세트를 생성합니다. 데이터 세트는 학습 작업에 대한 입력으로 전달됩니다. 교육 코드에서는 이 관리되는 데이터 세트에 액세스하기 위해 환경 변수에 액세스할 수 있습니다.\n",
    "\n",
    "맞춤 학습 작업을 설정하는 방법은 다음과 같습니다.\n",
    "\n",
    "- 데이터에서 빈 유형을 분류 하는 Scikit-learn `DecisionTreeClassifier` 모델 작성\n",
    "- Docker 컨테이너에 교육 코드를 패키징하고 Container Registry에 푸시\n",
    "\n",
    "거기에서 파이프라인에서 직접 Vertex AI Training 작업을 시작할 수 있습니다. 시작하자!\n",
    "\n"
   ]
  },
  {
   "cell_type": "markdown",
   "id": "5acd1f6f-7229-471d-84fa-f1d97e33ca17",
   "metadata": {},
   "source": [
    "### 5.1 Docker 컨테이너에서 학습 코드 정의"
   ]
  },
  {
   "cell_type": "code",
   "execution_count": 21,
   "id": "5386c58f-5b96-4a3f-8ee0-aa08deaf6cf7",
   "metadata": {},
   "outputs": [],
   "source": [
    "!mkdir -p traincontainer/trainer"
   ]
  },
  {
   "cell_type": "markdown",
   "id": "d5dba2ed-0159-4c12-9cd7-dcf78d7ae1e4",
   "metadata": {},
   "source": [
    "코드를 컨테이너화하는 첫 번째 단계는 Dockerfile을 만드는 것입니다. Dockerfile에는 이미지를 실행하는 데 필요한 모든 명령이 포함됩니다. 사용 중인 모든 라이브러리를 설치하고 교육 코드의 진입점을 설정합니다. 방금 만든 Dockerfile을 열고 다음을 추가합니다."
   ]
  },
  {
   "cell_type": "code",
   "execution_count": 22,
   "id": "2cbed1e1-d57b-452b-8619-42290376fd57",
   "metadata": {},
   "outputs": [
    {
     "name": "stdout",
     "output_type": "stream",
     "text": [
      "Writing traincontainer/Dockerfile\n"
     ]
    }
   ],
   "source": [
    "%%writefile traincontainer/Dockerfile\n",
    "FROM gcr.io/deeplearning-platform-release/sklearn-cpu.0-23\n",
    "WORKDIR /\n",
    "\n",
    "# Copies the trainer code to the docker image.\n",
    "COPY trainer /trainer\n",
    "\n",
    "RUN pip install sklearn google-cloud-bigquery joblib pandas google-cloud-storage\n",
    "\n",
    "# Sets up the entry point to invoke the trainer.\n",
    "ENTRYPOINT [\"python\", \"-m\", \"trainer.train\"]"
   ]
  },
  {
   "cell_type": "code",
   "execution_count": 23,
   "id": "4117ee64-ed03-48d0-9d2b-96c344d8a875",
   "metadata": {},
   "outputs": [
    {
     "name": "stdout",
     "output_type": "stream",
     "text": [
      "Writing trainer/train.py\n"
     ]
    }
   ],
   "source": [
    "%%writefile traincontainer/trainer/train.py\n",
    "from sklearn.tree import DecisionTreeClassifier\n",
    "from sklearn.metrics import roc_curve\n",
    "from sklearn.model_selection import train_test_split\n",
    "from google.cloud import bigquery\n",
    "from google.cloud import storage\n",
    "from joblib import dump\n",
    "\n",
    "import os\n",
    "import pandas as pd\n",
    "\n",
    "bqclient = bigquery.Client()\n",
    "storage_client = storage.Client()\n",
    "\n",
    "def download_table(bq_table_uri: str):\n",
    "    prefix = \"bq://\"\n",
    "    if bq_table_uri.startswith(prefix):\n",
    "        bq_table_uri = bq_table_uri[len(prefix):]\n",
    "\n",
    "    table = bigquery.TableReference.from_string(bq_table_uri)\n",
    "    rows = bqclient.list_rows(\n",
    "        table,\n",
    "    )\n",
    "    return rows.to_dataframe(create_bqstorage_client=False)\n",
    "\n",
    "# These environment variables are from Vertex AI managed datasets\n",
    "training_data_uri = os.environ[\"AIP_TRAINING_DATA_URI\"]\n",
    "test_data_uri = os.environ[\"AIP_TEST_DATA_URI\"]\n",
    "\n",
    "# Download data into Pandas DataFrames, split into train / test\n",
    "df = download_table(training_data_uri)\n",
    "test_df = download_table(test_data_uri)\n",
    "labels = df.pop(\"Class\").tolist()\n",
    "data = df.values.tolist()\n",
    "test_labels = test_df.pop(\"Class\").tolist()\n",
    "test_data = test_df.values.tolist()\n",
    "\n",
    "# Define and train the Scikit model\n",
    "skmodel = DecisionTreeClassifier()\n",
    "skmodel.fit(data, labels)\n",
    "score = skmodel.score(test_data, test_labels)\n",
    "print('accuracy is:',score)\n",
    "\n",
    "# Save the model to a local file\n",
    "dump(skmodel, \"model.joblib\")\n",
    "\n",
    "# Upload the saved model file to GCS\n",
    "bucket = storage_client.get_bucket(\"YOUR_GCS_BUCKET\")\n",
    "model_directory = os.environ[\"AIP_MODEL_DIR\"]\n",
    "storage_path = os.path.join(model_directory, \"model.joblib\")\n",
    "blob = storage.blob.Blob.from_string(storage_path, client=storage_client)\n",
    "blob.upload_from_filename(\"model.joblib\")"
   ]
  },
  {
   "cell_type": "markdown",
   "id": "96f29f3f-2b1a-40cb-a29d-5c83407b362c",
   "metadata": {},
   "source": [
    "### 5.2 Container Registry에 컨테이너 이미지 푸시"
   ]
  },
  {
   "cell_type": "code",
   "execution_count": 27,
   "id": "a2522c72-b480-41d5-ab6d-d32350a931fc",
   "metadata": {},
   "outputs": [],
   "source": [
    "! PROJECT_ID=$(gcloud config get-value project)\n",
    "! IMAGE_URI=\"gcr.io/$PROJECT_ID/scikit:v1\""
   ]
  },
  {
   "cell_type": "code",
   "execution_count": 29,
   "id": "3f5cb4a1-6177-4eb3-a8a5-7315606855b2",
   "metadata": {},
   "outputs": [
    {
     "name": "stdout",
     "output_type": "stream",
     "text": [
      "/bin/bash: docker: command not found\n"
     ]
    }
   ],
   "source": [
    "! docker build ./ -t $IMAGE_URI"
   ]
  },
  {
   "cell_type": "code",
   "execution_count": 30,
   "id": "6625446c-c96d-480b-8acd-77b12b8eb6f8",
   "metadata": {},
   "outputs": [
    {
     "name": "stdout",
     "output_type": "stream",
     "text": [
      "/bin/bash: docker: command not found\n"
     ]
    }
   ],
   "source": [
    "! docker push $IMAGE_URI"
   ]
  },
  {
   "cell_type": "markdown",
   "id": "b7ac4c07-4424-4002-941e-7c2661347a15",
   "metadata": {},
   "source": [
    "## 6. Batch Prediction 구성 "
   ]
  },
  {
   "cell_type": "code",
   "execution_count": 24,
   "id": "ec3f2c99-153a-4551-bc49-20ca23e9ff74",
   "metadata": {},
   "outputs": [
    {
     "name": "stdout",
     "output_type": "stream",
     "text": [
      "Overwriting batch_examples.csv\n"
     ]
    }
   ],
   "source": [
    "%%writefile batch_examples.csv\n",
    "Area,Perimeter,MajorAxisLength,MinorAxisLength,AspectRation,Eccentricity,ConvexArea,EquivDiameter,Extent,Solidity,roundness,Compactness,ShapeFactor1,ShapeFactor2,ShapeFactor3,ShapeFactor4\n",
    "23288,558.113,207.567738,143.085693,1.450653336,0.7244336162,23545,172.1952453,0.8045881703,0.9890847314,0.9395021523,0.8295857874,0.008913077034,0.002604069884,0.6882125787,0.9983578734\n",
    "23689,575.638,205.9678003,146.7475015,1.403552348,0.7016945718,24018,173.6714472,0.7652721693,0.9863019402,0.8983750474,0.8431970773,0.00869465998,0.002711119968,0.7109813112,0.9978994889\n",
    "23727,559.503,189.7993849,159.3717704,1.190922235,0.5430731512,24021,173.8106863,0.8037601626,0.9877607094,0.952462433,0.9157600082,0.007999299741,0.003470231343,0.8386163926,0.9987269085\n",
    "31158,641.105,212.0669751,187.1929601,1.132879009,0.4699241567,31474,199.1773023,0.7813134733,0.989959967,0.9526231013,0.9392188582,0.0068061806,0.003267009878,0.8821320637,0.9993488983\n",
    "32514,649.012,221.4454899,187.1344232,1.183349841,0.5346736437,32843,203.4652564,0.7849831,0.9899826447,0.9700068737,0.9188051492,0.00681077351,0.002994124691,0.8442029022,0.9989873701\n",
    "33078,659.456,235.5600775,178.9312328,1.316483846,0.6503915309,33333,205.2223615,0.7877214708,0.9923499235,0.9558229607,0.8712102818,0.007121351881,0.002530662194,0.7590073551,0.9992209221\n",
    "33680,683.09,256.203255,167.9334938,1.525623324,0.7552213942,34019,207.081404,0.80680321,0.9900349805,0.9070392732,0.8082699962,0.007606985006,0.002002710402,0.6533003868,0.9966903078\n",
    "33954,716.75,277.3684803,156.3563259,1.773951126,0.825970469,34420,207.9220419,0.7994819873,0.9864613597,0.8305492781,0.7496238998,0.008168948587,0.001591181142,0.5619359911,0.996846984\n",
    "36322,719.437,272.0582306,170.8914975,1.591993952,0.7780978465,36717,215.0502424,0.7718560075,0.9892420405,0.8818487005,0.7904566678,0.007490177594,0.001803782407,0.6248217437,0.9947124371\n",
    "36675,742.917,285.8908964,166.8819538,1.713132487,0.8119506999,37613,216.0927123,0.7788277766,0.9750618137,0.8350248381,0.7558572692,0.0077952528,0.001569528272,0.5713202115,0.9787472145\n",
    "37454,772.679,297.6274753,162.1493177,1.835514817,0.8385619338,38113,218.3756257,0.8016695205,0.9827093118,0.7883332637,0.7337213257,0.007946480356,0.001420623993,0.5383469838,0.9881438654\n",
    "37789,766.378,313.5680678,154.3409867,2.031657789,0.8704771226,38251,219.3500608,0.7805870567,0.9879218844,0.8085170916,0.6995293312,0.008297866252,0.001225659709,0.4893412853,0.9941740339\n",
    "47883,873.536,327.9986493,186.5201272,1.758516115,0.822571799,48753,246.9140116,0.7584464543,0.9821549443,0.7885506623,0.7527897207,0.006850002074,0.00135695419,0.5666923636,0.9965376533\n",
    "49777,861.277,300.7570338,211.6168613,1.42123379,0.7105823885,50590,251.7499649,0.8019106536,0.9839296304,0.843243269,0.8370542883,0.00604208839,0.001829706116,0.7006598815,0.9958014989\n",
    "49882,891.505,357.1890036,179.8346914,1.986207449,0.8640114945,51042,252.0153467,0.7260210171,0.9772736178,0.7886896753,0.7055518063,0.007160679276,0.001094585314,0.4978033513,0.9887407248\n",
    "53249,919.923,325.3866286,208.9174205,1.557489212,0.7666552108,54195,260.3818974,0.6966846347,0.9825445152,0.7907120655,0.8002231025,0.00611066177,0.001545654241,0.6403570138,0.9973491406\n",
    "61129,964.969,369.3481688,210.9473449,1.750902193,0.8208567513,61796,278.9836198,0.7501135067,0.9892064211,0.8249553283,0.7553404711,0.006042110436,0.001213219664,0.5705392272,0.9989583843\n",
    "61918,960.372,353.1381442,224.0962377,1.575832543,0.7728529173,62627,280.7782864,0.7539207091,0.9886790043,0.8436218213,0.7950947556,0.005703319619,0.00140599258,0.6321756704,0.9962029945\n",
    "141953,1402.05,524.2311633,346.3974998,1.513380332,0.7505863011,143704,425.1354762,0.7147107987,0.9878152313,0.9074598849,0.8109694843,0.003692991084,0.0009853172185,0.6576715044,0.9953071199\n",
    "145285,1440.991,524.9567463,353.0769977,1.486805285,0.7400216694,146709,430.0960442,0.7860466375,0.9902937107,0.8792413513,0.8192980608,0.003613289371,0.001004269363,0.6712493125,0.9980170255\n",
    "146153,1476.383,526.1933264,356.528288,1.475881001,0.7354662103,149267,431.3789276,0.7319360978,0.9791380546,0.8425962592,0.8198107159,0.003600290972,0.001003163512,0.6720896099,0.991924286"
   ]
  },
  {
   "cell_type": "code",
   "execution_count": 10,
   "id": "d40d6747-ec37-44da-9b35-597c8e32a035",
   "metadata": {},
   "outputs": [
    {
     "name": "stdout",
     "output_type": "stream",
     "text": [
      "Copying file://batch_examples.csv [Content-Type=text/csv]...\n",
      "/ [1 files][  4.0 KiB/  4.0 KiB]                                                \n",
      "Operation completed over 1 objects/4.0 KiB.                                      \n"
     ]
    }
   ],
   "source": [
    "!gsutil cp batch_examples.csv $BUCKET_NAME"
   ]
  },
  {
   "cell_type": "markdown",
   "id": "7465c927-e1a9-4d4d-a137-a3f90c45c259",
   "metadata": {},
   "source": [
    "## 7. Pre-Built 컴포넌트로 파이프라인 구축\n",
    "이제 훈련 코드가 클라우드에 있으므로 파이프라인에서 호출할 준비가 되었습니다. 정의할 파이프라인은 `google_cloud_pipeline_components` 이전에 설치한 라이브러리에서 미리 빌드된 세 가지 구성 요소를 사용합니다. 이러한 사전 정의된 구성 요소는 파이프라인을 설정하기 위해 작성해야 하는 코드를 단순화하고 모델 교육 및 배치 예측과 같은 Vertex AI 서비스를 사용할 수 있게 해줍니다.\n",
    "\n",
    "> 수행하려는 작업에 대해 미리 빌드된 구성 요소를 찾을 수 없는 경우 고유한 Python 기반 사용자 지정 구성 요소를 정의할 수 있습니다. 예제를 보려면 [이 코드랩](https://codelabs.developers.google.com/vertex-pipelines-intro#5)을 확인하세요 .\n",
    "\n",
    "\n",
    "3단계 파이프라인이 수행하는 작업은 다음과 같습니다.\n",
    "\n",
    "- Vertex AI에서 관리되는 데이터 세트 생성\n",
    "- 우리가 설정한 사용자 정의 컨테이너를 사용하여 Vertx AI에서 훈련 작업 실행\n",
    "- 훈련된 Scikit-learn 분류 모델에서 일괄 예측 작업 실행\n"
   ]
  },
  {
   "cell_type": "markdown",
   "id": "b127f4c1-7a2f-4496-9e85-bec09ed0e0eb",
   "metadata": {},
   "source": [
    "#### 7.1 파이프라인 정의 \n",
    "미리 빌드된 구성 요소를 사용하기 때문에 파이프라인 정의에서 전체 파이프라인을 설정할 수 있습니다. 노트북 셀에 다음을 추가합니다."
   ]
  },
  {
   "cell_type": "code",
   "execution_count": 11,
   "id": "cdfa6692-f428-44c2-a005-25ec349c04c7",
   "metadata": {},
   "outputs": [],
   "source": [
    "@pipeline(name=\"automl-beans-custom\",\n",
    "                  pipeline_root=PIPELINE_ROOT)\n",
    "def pipeline(\n",
    "    bq_source: str = \"bq://sara-vertex-demos.beans_demo.large_dataset\",\n",
    "    bucket: str = BUCKET_NAME,\n",
    "    project: str = PROJECT_ID,\n",
    "    gcp_region: str = REGION,\n",
    "    bq_dest: str = \"\",\n",
    "    container_uri: str = \"\",\n",
    "    batch_destination: str = \"\"\n",
    "):\n",
    "    dataset_create_op = gcc_aip.TabularDatasetCreateOp(\n",
    "        display_name=\"tabular-beans-dataset\",\n",
    "        bq_source=bq_source,\n",
    "        project=project,\n",
    "        location=gcp_region\n",
    "    )\n",
    "\n",
    "    training_op = gcc_aip.CustomContainerTrainingJobRunOp(\n",
    "        display_name=\"pipeline-beans-custom-train\",\n",
    "        container_uri=container_uri,\n",
    "        project=project,\n",
    "        location=gcp_region,\n",
    "        dataset=dataset_create_op.outputs[\"dataset\"],\n",
    "        staging_bucket=bucket,\n",
    "        training_fraction_split=0.8,\n",
    "        validation_fraction_split=0.1,\n",
    "        test_fraction_split=0.1,\n",
    "        bigquery_destination=bq_dest,\n",
    "        model_serving_container_image_uri=\"us-docker.pkg.dev/vertex-ai/prediction/sklearn-cpu.0-24:latest\",\n",
    "        model_display_name=\"scikit-beans-model-pipeline\",\n",
    "        machine_type=\"n1-standard-4\",\n",
    "    )\n",
    "    batch_predict_op = gcc_aip.ModelBatchPredictOp(\n",
    "        project=project,\n",
    "        location=gcp_region,\n",
    "        job_display_name=\"beans-batch-predict\",\n",
    "        model=training_op.outputs[\"model\"],\n",
    "        gcs_source_uris=[\"{0}/batch_examples.csv\".format(BUCKET_NAME)],\n",
    "        instances_format=\"csv\",\n",
    "        gcs_destination_output_uri_prefix=batch_destination,\n",
    "        machine_type=\"n1-standard-4\"\n",
    "    )"
   ]
  },
  {
   "cell_type": "markdown",
   "id": "d4d079d0-87b2-48ac-9291-a149300083e6",
   "metadata": {},
   "source": [
    "#### 7.2 파이프라인 컴파일 및 실행 \n",
    "파이프라인이 정의되면 컴파일할 준비가 된 것입니다. 다음은 파이프라인을 실행하는 데 사용할 JSON 파일을 생성합니다.\n",
    "\n"
   ]
  },
  {
   "cell_type": "code",
   "execution_count": 12,
   "id": "3f6b7d01-020b-4d95-a72d-8f397ff2b169",
   "metadata": {},
   "outputs": [
    {
     "name": "stderr",
     "output_type": "stream",
     "text": [
      "/home/jupyter/.local/lib/python3.7/site-packages/kfp/v2/compiler/compiler.py:1266: FutureWarning: APIs imported from the v1 namespace (e.g. kfp.dsl, kfp.components, etc) will not be supported by the v2 compiler since v2.0.0\n",
      "  category=FutureWarning,\n"
     ]
    }
   ],
   "source": [
    "compiler.Compiler().compile(\n",
    "    pipeline_func=pipeline, package_path=\"custom_train_pipeline.json\"\n",
    ")"
   ]
  },
  {
   "cell_type": "markdown",
   "id": "e27f6196-11fc-4b34-bfb4-fef933467580",
   "metadata": {},
   "source": [
    "다음으로 TIMESTAMP변수를 생성합니다. 우리는 이것을 작업 ID에서 사용할 것입니다:"
   ]
  },
  {
   "cell_type": "code",
   "execution_count": 13,
   "id": "69c1bbb6-0cb3-4cf2-a4f2-3880a319d450",
   "metadata": {},
   "outputs": [],
   "source": [
    "from datetime import datetime\n",
    "\n",
    "TIMESTAMP = datetime.now().strftime(\"%Y%m%d%H%M%S\")"
   ]
  },
  {
   "cell_type": "markdown",
   "id": "15f8e341-5650-477a-8b81-71d1545abfdb",
   "metadata": {},
   "source": [
    "그런 다음 몇 가지 프로젝트별 매개변수를 전달하여 파이프라인 작업을 정의합니다."
   ]
  },
  {
   "cell_type": "code",
   "execution_count": 14,
   "id": "065f8a1f-0435-4c34-aac9-61163d726375",
   "metadata": {},
   "outputs": [],
   "source": [
    "pipeline_job = aiplatform.PipelineJob(\n",
    "    display_name=\"custom-train-pipeline\",\n",
    "    template_path=\"custom_train_pipeline.json\",\n",
    "    job_id=\"custom-train-pipeline-{0}\".format(TIMESTAMP),\n",
    "    parameter_values={\n",
    "        \"project\": PROJECT_ID,\n",
    "        \"bucket\": BUCKET_NAME,\n",
    "        \"bq_dest\": \"bq://{0}\".format(PROJECT_ID),\n",
    "        \"container_uri\": \"gcr.io/{0}/scikit:v1\".format(PROJECT_ID),\n",
    "        \"batch_destination\": \"{0}/batchpredresults\".format(BUCKET_NAME)\n",
    "    },\n",
    "    enable_caching=True,\n",
    ")"
   ]
  },
  {
   "cell_type": "markdown",
   "id": "f782914d-1eb2-461d-9305-ce67f08a4275",
   "metadata": {},
   "source": [
    "마지막으로 작업을 실행하여 새 파이프라인 실행을 생성합니다."
   ]
  },
  {
   "cell_type": "code",
   "execution_count": 15,
   "id": "6e91270d-44a3-4382-84e1-083cc8cbd48b",
   "metadata": {},
   "outputs": [
    {
     "name": "stdout",
     "output_type": "stream",
     "text": [
      "INFO:google.cloud.aiplatform.pipeline_jobs:Creating PipelineJob\n",
      "INFO:google.cloud.aiplatform.pipeline_jobs:PipelineJob created. Resource name: projects/16539566961/locations/us-central1/pipelineJobs/custom-train-pipeline-20220922025409\n",
      "INFO:google.cloud.aiplatform.pipeline_jobs:To use this PipelineJob in another session:\n",
      "INFO:google.cloud.aiplatform.pipeline_jobs:pipeline_job = aiplatform.PipelineJob.get('projects/16539566961/locations/us-central1/pipelineJobs/custom-train-pipeline-20220922025409')\n",
      "INFO:google.cloud.aiplatform.pipeline_jobs:View Pipeline Job:\n",
      "https://console.cloud.google.com/vertex-ai/locations/us-central1/pipelines/runs/custom-train-pipeline-20220922025409?project=16539566961\n"
     ]
    }
   ],
   "source": [
    "pipeline_job.submit()"
   ]
  },
  {
   "cell_type": "code",
   "execution_count": null,
   "id": "47888509-a054-44b1-a40f-6ba86932aa29",
   "metadata": {},
   "outputs": [],
   "source": []
  },
  {
   "cell_type": "markdown",
   "id": "c3a8fc41-ba30-435f-a104-398e16dd44a6",
   "metadata": {},
   "source": [
    "Vertex AI를 사용하여 다음을 수행하는 방법을 배웠습니다.\n",
    "\n",
    "- Kubeflow Pipelines SDK를 사용하여 사용자 지정 구성 요소로 종단 간 파이프라인 구축\n",
    "- Vertex Pipelines에서 파이프라인을 실행하고 SDK로 파이프라인 실행 시작\n",
    "- 콘솔에서 정점 파이프라인 그래프 보기 및 분석\n",
    "- 미리 빌드된 파이프라인 구성 요소를 사용하여 파이프라인에 Vertex AI 서비스 추가\n",
    "- 반복되는 파이프라인 작업 예약"
   ]
  }
 ],
 "metadata": {
  "kernelspec": {
   "display_name": "Python (Local)",
   "language": "python",
   "name": "local-base"
  },
  "language_info": {
   "codemirror_mode": {
    "name": "ipython",
    "version": 3
   },
   "file_extension": ".py",
   "mimetype": "text/x-python",
   "name": "python",
   "nbconvert_exporter": "python",
   "pygments_lexer": "ipython3",
   "version": "3.7.12"
  }
 },
 "nbformat": 4,
 "nbformat_minor": 5
}
