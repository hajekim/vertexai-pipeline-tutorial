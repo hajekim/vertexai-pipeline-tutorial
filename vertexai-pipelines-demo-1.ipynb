{
 "cells": [
  {
   "cell_type": "markdown",
   "id": "3dcfca1b-fa43-4861-8c30-8c5b3e8271bc",
   "metadata": {},
   "source": [
    "# Vertex AI Pipelines 데모 1\n",
    "Vertex AI Pipelines 동작에 익숙해지기 위해 Kubeflow Pipelines(KFP) SDK를 사용하여 간단한 파이프라인을 만듭니다. 이 파이프라인 ML과 관련된 작업을 수행하지 않습니다.\n",
    "- KFP SDK에서 사용자 지정 구성 요소를 만드는 방법\n",
    "- Vertex AI Pipelines에서 파이프라인을 실행하고 모니터링 하는 방법\n",
    "\n",
    "`product-name`과 `emoji` 설명이라는 두 개의 컴포넌트의 설명을 출력하는 파이프라인을 생성합니다. 이 파이프라인 세 가지 컴포넌트로 구성됩니다.\n",
    "- `product_nanme` : 이 컴포넌트는 제품 이름을 입력으로 사용하고 해당 문자열을 출력으로 반환합니다.\n",
    "- `emoji`: 이 컴포넌트는 이모티콘의 텍스트 설명을 가져와 이모티콘으로 변환합니다. 예를 들어 ✨의 텍스트 코드는 `sparkles`입니다. 이 구성 요소는 이모티콘 라이브러리를 사용하여 파이프라인에서 외부 종속성을 관리하는 방법을 보여줍니다.\n",
    "- `build_sentence`: 이 마지막 구성 요소는 이전 두 개의 출력을 사용하여 이모티콘을 사용하는 문장을 만듭니다. 예를 들어 결과 출력은 `Vertex Pipelines is ✨`일 수 있습니다."
   ]
  },
  {
   "cell_type": "code",
   "execution_count": null,
   "id": "825b80d4-11d3-460c-8043-12d0d8979839",
   "metadata": {},
   "outputs": [],
   "source": []
  },
  {
   "cell_type": "markdown",
   "id": "28d0337d-8023-4503-a0c8-d5dc0fbede89",
   "metadata": {},
   "source": [
    "## 1. 라이브러리 준비"
   ]
  },
  {
   "cell_type": "code",
   "execution_count": 1,
   "id": "58c82e75-b86d-4bcd-92d9-de67da8253ac",
   "metadata": {},
   "outputs": [],
   "source": [
    "USER_FLAG = \"--user\""
   ]
  },
  {
   "cell_type": "code",
   "execution_count": 2,
   "id": "ba33d533-55cd-4fe1-bd12-4ffbc9060068",
   "metadata": {},
   "outputs": [
    {
     "name": "stdout",
     "output_type": "stream",
     "text": [
      "Requirement already satisfied: google-cloud-aiplatform==1.7.0 in ./.local/lib/python3.7/site-packages (1.7.0)\n",
      "Requirement already satisfied: google-api-core[grpc]<3.0.0dev,>=1.26.0 in ./.local/lib/python3.7/site-packages (from google-cloud-aiplatform==1.7.0) (1.33.1)\n",
      "Requirement already satisfied: proto-plus>=1.10.1 in ./.local/lib/python3.7/site-packages (from google-cloud-aiplatform==1.7.0) (1.22.1)\n",
      "Requirement already satisfied: google-cloud-storage<2.0.0dev,>=1.32.0 in ./.local/lib/python3.7/site-packages (from google-cloud-aiplatform==1.7.0) (1.44.0)\n",
      "Requirement already satisfied: packaging>=14.3 in ./.local/lib/python3.7/site-packages (from google-cloud-aiplatform==1.7.0) (21.3)\n",
      "Requirement already satisfied: google-cloud-bigquery<3.0.0dev,>=1.15.0 in ./.local/lib/python3.7/site-packages (from google-cloud-aiplatform==1.7.0) (2.34.4)\n",
      "Requirement already satisfied: google-auth<3.0dev,>=1.25.0 in ./.local/lib/python3.7/site-packages (from google-api-core[grpc]<3.0.0dev,>=1.26.0->google-cloud-aiplatform==1.7.0) (1.35.0)\n",
      "Requirement already satisfied: requests<3.0.0dev,>=2.18.0 in ./.local/lib/python3.7/site-packages (from google-api-core[grpc]<3.0.0dev,>=1.26.0->google-cloud-aiplatform==1.7.0) (2.28.1)\n",
      "Requirement already satisfied: googleapis-common-protos<2.0dev,>=1.56.2 in ./.local/lib/python3.7/site-packages (from google-api-core[grpc]<3.0.0dev,>=1.26.0->google-cloud-aiplatform==1.7.0) (1.56.4)\n",
      "Requirement already satisfied: protobuf<4.0.0dev,>=3.20.1 in ./.local/lib/python3.7/site-packages (from google-api-core[grpc]<3.0.0dev,>=1.26.0->google-cloud-aiplatform==1.7.0) (3.20.2)\n",
      "Requirement already satisfied: grpcio<2.0dev,>=1.33.2 in ./.local/lib/python3.7/site-packages (from google-api-core[grpc]<3.0.0dev,>=1.26.0->google-cloud-aiplatform==1.7.0) (1.49.0)\n",
      "Requirement already satisfied: grpcio-status<2.0dev,>=1.33.2 in ./.local/lib/python3.7/site-packages (from google-api-core[grpc]<3.0.0dev,>=1.26.0->google-cloud-aiplatform==1.7.0) (1.48.1)\n",
      "Requirement already satisfied: python-dateutil<3.0dev,>=2.7.2 in ./.local/lib/python3.7/site-packages (from google-cloud-bigquery<3.0.0dev,>=1.15.0->google-cloud-aiplatform==1.7.0) (2.8.2)\n",
      "Requirement already satisfied: google-resumable-media<3.0dev,>=0.6.0 in ./.local/lib/python3.7/site-packages (from google-cloud-bigquery<3.0.0dev,>=1.15.0->google-cloud-aiplatform==1.7.0) (2.3.3)\n",
      "Requirement already satisfied: google-cloud-core<3.0.0dev,>=1.4.1 in ./.local/lib/python3.7/site-packages (from google-cloud-bigquery<3.0.0dev,>=1.15.0->google-cloud-aiplatform==1.7.0) (2.3.2)\n",
      "Requirement already satisfied: six in ./.local/lib/python3.7/site-packages (from google-cloud-storage<2.0.0dev,>=1.32.0->google-cloud-aiplatform==1.7.0) (1.16.0)\n",
      "Requirement already satisfied: pyparsing!=3.0.5,>=2.0.2 in ./.local/lib/python3.7/site-packages (from packaging>=14.3->google-cloud-aiplatform==1.7.0) (3.0.9)\n",
      "Requirement already satisfied: setuptools>=40.3.0 in ./.local/lib/python3.7/site-packages (from google-auth<3.0dev,>=1.25.0->google-api-core[grpc]<3.0.0dev,>=1.26.0->google-cloud-aiplatform==1.7.0) (65.3.0)\n",
      "Requirement already satisfied: pyasn1-modules>=0.2.1 in ./.local/lib/python3.7/site-packages (from google-auth<3.0dev,>=1.25.0->google-api-core[grpc]<3.0.0dev,>=1.26.0->google-cloud-aiplatform==1.7.0) (0.2.8)\n",
      "Requirement already satisfied: cachetools<5.0,>=2.0.0 in ./.local/lib/python3.7/site-packages (from google-auth<3.0dev,>=1.25.0->google-api-core[grpc]<3.0.0dev,>=1.26.0->google-cloud-aiplatform==1.7.0) (4.2.4)\n",
      "Requirement already satisfied: rsa<5,>=3.1.4 in ./.local/lib/python3.7/site-packages (from google-auth<3.0dev,>=1.25.0->google-api-core[grpc]<3.0.0dev,>=1.26.0->google-cloud-aiplatform==1.7.0) (4.9)\n",
      "Requirement already satisfied: google-crc32c<2.0dev,>=1.0 in ./.local/lib/python3.7/site-packages (from google-resumable-media<3.0dev,>=0.6.0->google-cloud-bigquery<3.0.0dev,>=1.15.0->google-cloud-aiplatform==1.7.0) (1.5.0)\n",
      "Requirement already satisfied: certifi>=2017.4.17 in ./.local/lib/python3.7/site-packages (from requests<3.0.0dev,>=2.18.0->google-api-core[grpc]<3.0.0dev,>=1.26.0->google-cloud-aiplatform==1.7.0) (2022.9.14)\n",
      "Requirement already satisfied: charset-normalizer<3,>=2 in ./.local/lib/python3.7/site-packages (from requests<3.0.0dev,>=2.18.0->google-api-core[grpc]<3.0.0dev,>=1.26.0->google-cloud-aiplatform==1.7.0) (2.1.1)\n",
      "Requirement already satisfied: urllib3<1.27,>=1.21.1 in ./.local/lib/python3.7/site-packages (from requests<3.0.0dev,>=2.18.0->google-api-core[grpc]<3.0.0dev,>=1.26.0->google-cloud-aiplatform==1.7.0) (1.26.12)\n",
      "Requirement already satisfied: idna<4,>=2.5 in ./.local/lib/python3.7/site-packages (from requests<3.0.0dev,>=2.18.0->google-api-core[grpc]<3.0.0dev,>=1.26.0->google-cloud-aiplatform==1.7.0) (3.4)\n",
      "Requirement already satisfied: pyasn1<0.5.0,>=0.4.6 in ./.local/lib/python3.7/site-packages (from pyasn1-modules>=0.2.1->google-auth<3.0dev,>=1.25.0->google-api-core[grpc]<3.0.0dev,>=1.26.0->google-cloud-aiplatform==1.7.0) (0.4.8)\n",
      "Requirement already satisfied: kfp==1.8.9 in ./.local/lib/python3.7/site-packages (1.8.9)\n",
      "Requirement already satisfied: google-cloud-pipeline-components==0.2.0 in ./.local/lib/python3.7/site-packages (0.2.0)\n",
      "Requirement already satisfied: jsonschema<4,>=3.0.1 in ./.local/lib/python3.7/site-packages (from kfp==1.8.9) (3.2.0)\n",
      "Requirement already satisfied: PyYAML<6,>=5.3 in ./.local/lib/python3.7/site-packages (from kfp==1.8.9) (5.4.1)\n",
      "Requirement already satisfied: uritemplate<4,>=3.0.1 in ./.local/lib/python3.7/site-packages (from kfp==1.8.9) (3.0.1)\n",
      "Requirement already satisfied: kfp-pipeline-spec<0.2.0,>=0.1.13 in ./.local/lib/python3.7/site-packages (from kfp==1.8.9) (0.1.16)\n",
      "Requirement already satisfied: typer<1.0,>=0.3.2 in ./.local/lib/python3.7/site-packages (from kfp==1.8.9) (0.6.1)\n",
      "Requirement already satisfied: Deprecated<2,>=1.2.7 in ./.local/lib/python3.7/site-packages (from kfp==1.8.9) (1.2.13)\n",
      "Requirement already satisfied: pydantic<2,>=1.8.2 in ./.local/lib/python3.7/site-packages (from kfp==1.8.9) (1.9.2)\n",
      "Requirement already satisfied: protobuf<4,>=3.13.0 in ./.local/lib/python3.7/site-packages (from kfp==1.8.9) (3.20.2)\n",
      "Requirement already satisfied: click<9,>=7.1.2 in ./.local/lib/python3.7/site-packages (from kfp==1.8.9) (8.1.3)\n",
      "Requirement already satisfied: kfp-server-api<2.0.0,>=1.1.2 in ./.local/lib/python3.7/site-packages (from kfp==1.8.9) (1.8.5)\n",
      "Requirement already satisfied: typing-extensions<4,>=3.7.4 in ./.local/lib/python3.7/site-packages (from kfp==1.8.9) (3.10.0.2)\n",
      "Requirement already satisfied: tabulate<1,>=0.8.6 in ./.local/lib/python3.7/site-packages (from kfp==1.8.9) (0.8.10)\n",
      "Requirement already satisfied: absl-py<=0.11,>=0.9 in ./.local/lib/python3.7/site-packages (from kfp==1.8.9) (0.11.0)\n",
      "Requirement already satisfied: kubernetes<19,>=8.0.0 in ./.local/lib/python3.7/site-packages (from kfp==1.8.9) (18.20.0)\n",
      "Requirement already satisfied: requests-toolbelt<1,>=0.8.0 in ./.local/lib/python3.7/site-packages (from kfp==1.8.9) (0.9.1)\n",
      "Requirement already satisfied: fire<1,>=0.3.1 in ./.local/lib/python3.7/site-packages (from kfp==1.8.9) (0.4.0)\n",
      "Requirement already satisfied: docstring-parser<1,>=0.7.3 in ./.local/lib/python3.7/site-packages (from kfp==1.8.9) (0.15)\n",
      "Requirement already satisfied: cloudpickle<3,>=2.0.0 in ./.local/lib/python3.7/site-packages (from kfp==1.8.9) (2.2.0)\n",
      "Requirement already satisfied: google-auth<2,>=1.6.1 in ./.local/lib/python3.7/site-packages (from kfp==1.8.9) (1.35.0)\n",
      "Requirement already satisfied: strip-hints<1,>=0.1.8 in ./.local/lib/python3.7/site-packages (from kfp==1.8.9) (0.1.10)\n",
      "Requirement already satisfied: google-api-python-client<2,>=1.7.8 in ./.local/lib/python3.7/site-packages (from kfp==1.8.9) (1.12.11)\n",
      "Requirement already satisfied: google-cloud-storage<2,>=1.20.0 in ./.local/lib/python3.7/site-packages (from kfp==1.8.9) (1.44.0)\n",
      "Requirement already satisfied: google-cloud-aiplatform>=1.4.3 in ./.local/lib/python3.7/site-packages (from google-cloud-pipeline-components==0.2.0) (1.7.0)\n",
      "Requirement already satisfied: google-cloud-notebooks>=0.4.0 in ./.local/lib/python3.7/site-packages (from google-cloud-pipeline-components==0.2.0) (1.4.2)\n",
      "Requirement already satisfied: google-api-core<2dev,>=1.26.0 in ./.local/lib/python3.7/site-packages (from google-cloud-pipeline-components==0.2.0) (1.33.1)\n",
      "Requirement already satisfied: six in ./.local/lib/python3.7/site-packages (from absl-py<=0.11,>=0.9->kfp==1.8.9) (1.16.0)\n",
      "Requirement already satisfied: importlib-metadata in ./.local/lib/python3.7/site-packages (from click<9,>=7.1.2->kfp==1.8.9) (4.12.0)\n",
      "Requirement already satisfied: wrapt<2,>=1.10 in ./.local/lib/python3.7/site-packages (from Deprecated<2,>=1.2.7->kfp==1.8.9) (1.14.1)\n",
      "Requirement already satisfied: termcolor in ./.local/lib/python3.7/site-packages (from fire<1,>=0.3.1->kfp==1.8.9) (2.0.1)\n",
      "Requirement already satisfied: googleapis-common-protos<2.0dev,>=1.56.2 in ./.local/lib/python3.7/site-packages (from google-api-core<2dev,>=1.26.0->google-cloud-pipeline-components==0.2.0) (1.56.4)\n",
      "Requirement already satisfied: requests<3.0.0dev,>=2.18.0 in ./.local/lib/python3.7/site-packages (from google-api-core<2dev,>=1.26.0->google-cloud-pipeline-components==0.2.0) (2.28.1)\n",
      "Requirement already satisfied: httplib2<1dev,>=0.15.0 in ./.local/lib/python3.7/site-packages (from google-api-python-client<2,>=1.7.8->kfp==1.8.9) (0.20.4)\n",
      "Requirement already satisfied: google-auth-httplib2>=0.0.3 in ./.local/lib/python3.7/site-packages (from google-api-python-client<2,>=1.7.8->kfp==1.8.9) (0.1.0)\n",
      "Requirement already satisfied: setuptools>=40.3.0 in ./.local/lib/python3.7/site-packages (from google-auth<2,>=1.6.1->kfp==1.8.9) (65.3.0)\n",
      "Requirement already satisfied: pyasn1-modules>=0.2.1 in ./.local/lib/python3.7/site-packages (from google-auth<2,>=1.6.1->kfp==1.8.9) (0.2.8)\n",
      "Requirement already satisfied: cachetools<5.0,>=2.0.0 in ./.local/lib/python3.7/site-packages (from google-auth<2,>=1.6.1->kfp==1.8.9) (4.2.4)\n",
      "Requirement already satisfied: rsa<5,>=3.1.4 in ./.local/lib/python3.7/site-packages (from google-auth<2,>=1.6.1->kfp==1.8.9) (4.9)\n",
      "Requirement already satisfied: proto-plus>=1.10.1 in ./.local/lib/python3.7/site-packages (from google-cloud-aiplatform>=1.4.3->google-cloud-pipeline-components==0.2.0) (1.22.1)\n",
      "Requirement already satisfied: packaging>=14.3 in ./.local/lib/python3.7/site-packages (from google-cloud-aiplatform>=1.4.3->google-cloud-pipeline-components==0.2.0) (21.3)\n",
      "Requirement already satisfied: google-cloud-bigquery<3.0.0dev,>=1.15.0 in ./.local/lib/python3.7/site-packages (from google-cloud-aiplatform>=1.4.3->google-cloud-pipeline-components==0.2.0) (2.34.4)\n",
      "Requirement already satisfied: google-resumable-media<3.0dev,>=1.3.0 in ./.local/lib/python3.7/site-packages (from google-cloud-storage<2,>=1.20.0->kfp==1.8.9) (2.3.3)\n",
      "Requirement already satisfied: google-cloud-core<3.0dev,>=1.6.0 in ./.local/lib/python3.7/site-packages (from google-cloud-storage<2,>=1.20.0->kfp==1.8.9) (2.3.2)\n",
      "Requirement already satisfied: attrs>=17.4.0 in ./.local/lib/python3.7/site-packages (from jsonschema<4,>=3.0.1->kfp==1.8.9) (22.1.0)\n",
      "Requirement already satisfied: pyrsistent>=0.14.0 in ./.local/lib/python3.7/site-packages (from jsonschema<4,>=3.0.1->kfp==1.8.9) (0.18.1)\n",
      "Requirement already satisfied: certifi in ./.local/lib/python3.7/site-packages (from kfp-server-api<2.0.0,>=1.1.2->kfp==1.8.9) (2022.9.14)\n",
      "Requirement already satisfied: urllib3>=1.15 in ./.local/lib/python3.7/site-packages (from kfp-server-api<2.0.0,>=1.1.2->kfp==1.8.9) (1.26.12)\n",
      "Requirement already satisfied: python-dateutil in ./.local/lib/python3.7/site-packages (from kfp-server-api<2.0.0,>=1.1.2->kfp==1.8.9) (2.8.2)\n",
      "Requirement already satisfied: websocket-client!=0.40.0,!=0.41.*,!=0.42.*,>=0.32.0 in ./.local/lib/python3.7/site-packages (from kubernetes<19,>=8.0.0->kfp==1.8.9) (1.4.1)\n",
      "Requirement already satisfied: requests-oauthlib in ./.local/lib/python3.7/site-packages (from kubernetes<19,>=8.0.0->kfp==1.8.9) (1.3.1)\n",
      "Requirement already satisfied: wheel in ./.local/lib/python3.7/site-packages (from strip-hints<1,>=0.1.8->kfp==1.8.9) (0.37.1)\n",
      "Requirement already satisfied: grpcio<2.0dev,>=1.33.2 in ./.local/lib/python3.7/site-packages (from google-api-core<2dev,>=1.26.0->google-cloud-pipeline-components==0.2.0) (1.49.0)\n",
      "Requirement already satisfied: grpcio-status<2.0dev,>=1.33.2 in ./.local/lib/python3.7/site-packages (from google-api-core<2dev,>=1.26.0->google-cloud-pipeline-components==0.2.0) (1.48.1)\n",
      "Requirement already satisfied: google-crc32c<2.0dev,>=1.0 in ./.local/lib/python3.7/site-packages (from google-resumable-media<3.0dev,>=1.3.0->google-cloud-storage<2,>=1.20.0->kfp==1.8.9) (1.5.0)\n",
      "Requirement already satisfied: pyparsing!=3.0.0,!=3.0.1,!=3.0.2,!=3.0.3,<4,>=2.4.2 in ./.local/lib/python3.7/site-packages (from httplib2<1dev,>=0.15.0->google-api-python-client<2,>=1.7.8->kfp==1.8.9) (3.0.9)\n",
      "Requirement already satisfied: pyasn1<0.5.0,>=0.4.6 in ./.local/lib/python3.7/site-packages (from pyasn1-modules>=0.2.1->google-auth<2,>=1.6.1->kfp==1.8.9) (0.4.8)\n",
      "Requirement already satisfied: charset-normalizer<3,>=2 in ./.local/lib/python3.7/site-packages (from requests<3.0.0dev,>=2.18.0->google-api-core<2dev,>=1.26.0->google-cloud-pipeline-components==0.2.0) (2.1.1)\n",
      "Requirement already satisfied: idna<4,>=2.5 in ./.local/lib/python3.7/site-packages (from requests<3.0.0dev,>=2.18.0->google-api-core<2dev,>=1.26.0->google-cloud-pipeline-components==0.2.0) (3.4)\n",
      "Requirement already satisfied: zipp>=0.5 in ./.local/lib/python3.7/site-packages (from importlib-metadata->click<9,>=7.1.2->kfp==1.8.9) (3.8.1)\n",
      "Requirement already satisfied: oauthlib>=3.0.0 in ./.local/lib/python3.7/site-packages (from requests-oauthlib->kubernetes<19,>=8.0.0->kfp==1.8.9) (3.2.1)\n"
     ]
    }
   ],
   "source": [
    "!pip3 install {USER_FLAG} google-cloud-aiplatform==1.7.0 --upgrade\n",
    "!pip3 install {USER_FLAG} kfp==1.8.9 google-cloud-pipeline-components==0.2.0"
   ]
  },
  {
   "cell_type": "markdown",
   "id": "8eb3a661-c34b-43a7-80a2-e047ad9c0b7e",
   "metadata": {},
   "source": [
    "### 커널 재시작"
   ]
  },
  {
   "cell_type": "code",
   "execution_count": null,
   "id": "b507df1d-9d9c-4bba-bea8-fa7fe514c28e",
   "metadata": {},
   "outputs": [],
   "source": [
    "import os\n",
    "\n",
    "if not os.getenv(\"IS_TESTING\"):\n",
    "    # Automatically restart kernel after installs\n",
    "    import IPython\n",
    "\n",
    "    app = IPython.Application.instance()\n",
    "    app.kernel.do_shutdown(True)"
   ]
  },
  {
   "cell_type": "markdown",
   "id": "87453566-dd47-4f95-8c37-7918cebb0066",
   "metadata": {
    "tags": []
   },
   "source": [
    "### Kubeflow Pipeline 버전 확인\n",
    "KFP SDK 버전은 >= 1.8이어야 함  \n",
    "확인을 해보자"
   ]
  },
  {
   "cell_type": "code",
   "execution_count": 2,
   "id": "7d97b7d3-165b-4d4e-9f83-f9a1197f3842",
   "metadata": {},
   "outputs": [
    {
     "name": "stdout",
     "output_type": "stream",
     "text": [
      "KFP SDK version: 1.8.9\n",
      "google_cloud_pipeline_components version: 0.2.0\n"
     ]
    }
   ],
   "source": [
    "!python3 -c \"import kfp; print('KFP SDK version: {}'.format(kfp.__version__))\"\n",
    "!python3 -c \"import google_cloud_pipeline_components; print('google_cloud_pipeline_components version: {}'.format(google_cloud_pipeline_components.__version__))\""
   ]
  },
  {
   "cell_type": "markdown",
   "id": "86ee0928-5f6e-410e-b1de-897676c0c116",
   "metadata": {
    "tags": []
   },
   "source": [
    "## 2. 프로젝트ID 및 GCS 버킷 설정"
   ]
  },
  {
   "cell_type": "code",
   "execution_count": 1,
   "id": "c602fc08-0a2a-4e33-a749-d7c3990250a1",
   "metadata": {},
   "outputs": [],
   "source": [
    "# 프로젝트ID 입력\n",
    "PROJECT_ID = \"seventh-jet-360700\""
   ]
  },
  {
   "cell_type": "code",
   "execution_count": 2,
   "id": "b1bb05e5-c425-4c95-90e9-67aea227d36d",
   "metadata": {},
   "outputs": [],
   "source": [
    "# GCS 버킷 입력\n",
    "BUCKET_NAME=\"gs://cokebox-ml\""
   ]
  },
  {
   "cell_type": "markdown",
   "id": "c845728e-b52f-4a1b-a3e1-8894a303a397",
   "metadata": {},
   "source": [
    "## 3. 라이브러리 가져오기"
   ]
  },
  {
   "cell_type": "code",
   "execution_count": 3,
   "id": "cd0e3fd7-b09a-4c75-b1cf-670a354ca728",
   "metadata": {},
   "outputs": [],
   "source": [
    "import kfp\n",
    "\n",
    "from kfp.v2 import compiler, dsl\n",
    "from kfp.v2.dsl import component, pipeline, Artifact, ClassificationMetrics, Input, Output, Model, Metrics\n",
    "\n",
    "from google.cloud import aiplatform\n",
    "from google_cloud_pipeline_components import aiplatform as gcc_aip\n",
    "from typing import NamedTuple"
   ]
  },
  {
   "cell_type": "markdown",
   "id": "11a451e7-908a-4019-846c-d1c6d8729e85",
   "metadata": {},
   "source": [
    "## 4. KFP 변수 선언하기 "
   ]
  },
  {
   "cell_type": "markdown",
   "id": "40d69efd-4f87-47b3-a9ab-c81cafdd604e",
   "metadata": {},
   "source": [
    "파이프라인을 구축하기 전에 마지막으로 해야 할 일은 몇 가지 상수 변수를 정의하는 것입니다. `PIPELINE_ROOT`파이프라인에서 생성된 아티팩트가 작성될 Cloud Storage 경로입니다. 여기서는 리전으로 `us-central1`를 사용하고 있지만 버킷을 생성할 때 다른 리전을 사용한 경우 아래 코드에서 `REGION` 변수를 업데이트 하십시오."
   ]
  },
  {
   "cell_type": "code",
   "execution_count": 5,
   "id": "4de7474c-a306-425e-b23c-78450baab8bc",
   "metadata": {},
   "outputs": [
    {
     "name": "stdout",
     "output_type": "stream",
     "text": [
      "env: PATH=/opt/conda/bin:/opt/conda/condabin:/opt/conda/bin:/usr/local/nvidia/bin:/usr/local/cuda/bin:/usr/local/sbin:/usr/local/bin:/usr/sbin:/usr/bin:/sbin:/bin:/home/jupyter/.local/bin:/home/jupyter/.local/bin\n"
     ]
    },
    {
     "data": {
      "text/plain": [
       "'gs://cokebox-ml/pipeline_root/'"
      ]
     },
     "execution_count": 5,
     "metadata": {},
     "output_type": "execute_result"
    }
   ],
   "source": [
    "PATH=%env PATH\n",
    "%env PATH={PATH}:/home/jupyter/.local/bin\n",
    "REGION=\"us-central1\"\n",
    "\n",
    "PIPELINE_ROOT = f\"{BUCKET_NAME}/pipeline_root/\"\n",
    "PIPELINE_ROOT"
   ]
  },
  {
   "cell_type": "markdown",
   "id": "1660d5fe-26eb-4294-9c13-5b954863faac",
   "metadata": {},
   "source": [
    "## 5. 첫 파이프라인 만들기 "
   ]
  },
  {
   "cell_type": "markdown",
   "id": "aeae48b5-55aa-45ff-a49a-c1c5b57a0267",
   "metadata": {},
   "source": [
    "### 5.1 Python 베이스 컴포넌트 **`product_name`** 만들기"
   ]
  },
  {
   "cell_type": "markdown",
   "id": "695457ad-6c1b-4441-98ca-5646ddcec4c5",
   "metadata": {},
   "source": [
    "KFP SDK를 사용하여 Python 기능을 기반으로 구성 요소를 만들 수 있습니다. 첫 번째 파이프라인의 3가지 구성 요소에 이를 사용합니다. `product_name` 먼저 단순히 문자열을 입력으로 받아 해당 문자열을 반환하는 컴포넌트를 빌드 합니다. 노트북에 다음을 추가합니다."
   ]
  },
  {
   "cell_type": "code",
   "execution_count": 6,
   "id": "0bcd6619-737d-42fb-9d0f-cc1f36066efe",
   "metadata": {},
   "outputs": [],
   "source": [
    "@component(base_image=\"python:3.9\", output_component_file=\"first-component.yaml\")\n",
    "def product_name(text: str) -> str:\n",
    "    return text"
   ]
  },
  {
   "cell_type": "markdown",
   "id": "788d49d5-8d2d-4068-b064-5e37fa8053c6",
   "metadata": {},
   "source": [
    "- 데코레이터는 `@component`파이프라인이 실행될 때 이 함수를 컴포넌트로 컴파일합니다. 사용자 정의 컴포넌트를 작성할 때마다 이것을 사용합니다.\n",
    "- 매개변수는 `base_image`이 구성요소가 사용할 컨테이너 이미지를 지정합니다.\n",
    "- 매개변수는 선택 사항 `output_component_file`이며 컴파일된 구성 요소를 쓸 yaml 파일을 지정합니다. 셀을 실행한 후 노트북 인스턴스에 작성된 해당 파일을 볼 수 있습니다. 이 구성 요소를 다른 사람과 공유하려면 생성된 yaml 파일을 보내고 다음과 함께 로드하도록 할 수 있습니다."
   ]
  },
  {
   "cell_type": "code",
   "execution_count": 8,
   "id": "d343b488-c777-4c0e-aa9b-c34b9f2b7d73",
   "metadata": {},
   "outputs": [],
   "source": [
    "product_name_component = kfp.components.load_component_from_file('./first-component.yaml')"
   ]
  },
  {
   "cell_type": "markdown",
   "id": "17aaa2da-f5dc-4f30-9e7c-c85ea5132a80",
   "metadata": {},
   "source": [
    "`-> str` 함수 정의 이후는 이 컴포넌트의 출력 유형을 지정"
   ]
  },
  {
   "cell_type": "markdown",
   "id": "9b02397a-9483-40e8-888d-ddb5999bfbb1",
   "metadata": {},
   "source": [
    "### 5.2 두 개의 추가 컴포넌트 "
   ]
  },
  {
   "cell_type": "markdown",
   "id": "b78fda90-62de-4329-bea4-cca304ba2d1f",
   "metadata": {},
   "source": [
    "파이프라인을 완료하기 위해 두 개의 구성 요소를 더 만듭니다. 우리가 정의할 첫 번째 것은 문자열을 입력으로 사용하고 이 문자열이 있는 경우 해당 이모티콘으로 변환합니다. 전달된 입력 텍스트와 결과 이모티콘이 있는 튜플을 반환합니다."
   ]
  },
  {
   "cell_type": "code",
   "execution_count": 9,
   "id": "d1c21b98-99a2-44d5-aa45-5417687242af",
   "metadata": {},
   "outputs": [],
   "source": [
    "@component(packages_to_install=[\"emoji\"])\n",
    "def emoji(\n",
    "    text: str,\n",
    ") -> NamedTuple(\n",
    "    \"Outputs\",\n",
    "    [\n",
    "        (\"emoji_text\", str),  # Return parameters\n",
    "        (\"emoji\", str),\n",
    "    ],\n",
    "):\n",
    "    import emoji\n",
    "\n",
    "    emoji_text = text\n",
    "    emoji_str = emoji.emojize(':' + emoji_text + ':', language='alias')\n",
    "    print(\"output one: {}; output_two: {}\".format(emoji_text, emoji_str))\n",
    "    return (emoji_text, emoji_str)"
   ]
  },
  {
   "cell_type": "markdown",
   "id": "31cd2672-232c-49fc-9119-6cc802ca49ad",
   "metadata": {},
   "source": [
    "이 구성 요소는 이전 구성 요소보다 약간 더 복잡합니다. 새로운 기능을 분석해 보겠습니다.\n",
    "\n",
    "- 매개변수는 이 `packages_to_install` 컨테이너에 대한 외부 라이브러리 종속성을 구성 요소에 알려줍니다. 이 경우 [emoji](https://pypi.org/project/emoji/) 라는 라이브러리를 사용하고 있습니다 .\n",
    "- 이 컴포넌트는 `NamedTuple` 호출 된 `Outputs`를 반환합니다. 이 튜플의 각 문자열에는 키 `emoji_text` 및 `emoji`가 있습니다. 다음 구성 요소에서 이를 사용하여 출력에 액세스합니다.\n",
    "\n",
    "이 파이프라인의 마지막 구성 요소는 처음 두 개의 출력을 사용하고 이를 결합하여 문자열을 반환합니다."
   ]
  },
  {
   "cell_type": "code",
   "execution_count": 10,
   "id": "1082442f-b36c-45cc-92d0-57055a060a9a",
   "metadata": {},
   "outputs": [],
   "source": [
    "@component\n",
    "def build_sentence(\n",
    "    product: str,\n",
    "    emoji: str,\n",
    "    emojitext: str\n",
    ") -> str:\n",
    "    print(\"We completed the pipeline, hooray!\")\n",
    "    end_str = product + \" is \"\n",
    "    if len(emoji) > 0:\n",
    "        end_str += emoji\n",
    "    else:\n",
    "        end_str += emojitext\n",
    "    return(end_str)"
   ]
  },
  {
   "cell_type": "markdown",
   "id": "e3810e04-c3a1-4912-91a8-e744276f2bf4",
   "metadata": {},
   "source": [
    "이 구성 요소는 이전에 정의한 단계의 출력을 사용하는 방법을 알고 있습니까? 좋은 질문! 다음 단계에서 모두 함께 묶을 것입니다."
   ]
  },
  {
   "cell_type": "markdown",
   "id": "8ccfa8b0-f1a7-4384-bf13-da72e7cc1813",
   "metadata": {},
   "source": [
    "### 5.3 파이프라인에 컴포넌트 담기 "
   ]
  },
  {
   "cell_type": "markdown",
   "id": "de2f68f2-cb3a-443c-8a0f-5475f9f2d8a3",
   "metadata": {},
   "source": [
    "위에서 정의한 구성 요소 정의는 파이프라인 정의에서 단계를 생성하는 데 사용할 수 있는 팩토리 함수를 생성했습니다. 파이프라인을 설정하려면 `@pipeline` 데코레이터를 사용하고 파이프라인에 이름과 설명을 지정하고 파이프라인의 아티팩트가 작성되어야 하는 루트 경로를 제공합니다. 아티팩트란 파이프라인에서 생성된 모든 출력 파일을 의미합니다. 이 인트로 파이프라인은 생성하지 않지만 다음 파이프라인은 생성합니다.\n",
    "\n",
    "다음 코드 블록에서는 `intro_pipeline` 함수를 정의합니다. 여기에서 초기 파이프라인 단계에 대한 입력과 단계가 서로 연결되는 방식을 지정합니다.\n",
    "\n",
    "- `product_task` 제품 이름을 입력으로 사용합니다. 여기에서 `Vertex AI Pipelines`를 전달하지만 원하는 대로 변경할 수 있습니다.\n",
    "- `emoji_task` 이모티콘의 텍스트 코드를 입력으로 사용합니다. 원하는 대로 변경할 수도 있습니다. 예를 들어 `party_face`는 🥳 이모티콘을 나타냅니다. 이 구성 요소와 `product_task` 구성 요소에는 입력을 제공하는 단계가 없으므로 파이프라인을 정의할 때 수동으로 입력을 지정합니다.\n",
    "- 파이프라인의 마지막 단계 `consumer_task`에는 세 가지 입력 매개변수가 있습니다.\n",
    "  - `product_task`의 출력. 이 단계는 하나의 출력만 생성하므로 `product_task.output`를 통해 참조할 수 있습니다.\n",
    "  - 우리 `emoji_task`단계 `emoji`의 출력. 출력 매개변수의 이름을 지정한 위에서 정의된 `emoji` 컴포넌트를 참조하십시오 .\n",
    "  - 마찬가지로 `emoji` 컴포넌트의 `emoji_text` 정의된 출력입니다. 파이프라인이 이모티콘과 일치하지 않는 텍스트를 전달하는 경우 이 텍스트를 사용하여 문장을 구성합니다."
   ]
  },
  {
   "cell_type": "code",
   "execution_count": 11,
   "id": "8c4ce7b0-2e8a-439b-9c70-278bbf0fc29f",
   "metadata": {},
   "outputs": [],
   "source": [
    "@pipeline(\n",
    "    name=\"hello-world\",\n",
    "    description=\"An intro pipeline\",\n",
    "    pipeline_root=PIPELINE_ROOT,\n",
    ")\n",
    "\n",
    "# You can change the `text` and `emoji_str` parameters here to update the pipeline output\n",
    "def intro_pipeline(text: str = \"Vertex Pipelines\", emoji_str: str = \"sparkles\"):\n",
    "    product_task = product_name(text)\n",
    "    emoji_task = emoji(emoji_str)\n",
    "    consumer_task = build_sentence(\n",
    "        product_task.output,\n",
    "        emoji_task.outputs[\"emoji\"],\n",
    "        emoji_task.outputs[\"emoji_text\"],\n",
    "    )"
   ]
  },
  {
   "cell_type": "markdown",
   "id": "a667deaa-0e5b-4934-b2d9-3750083450aa",
   "metadata": {},
   "source": [
    "### 5.4 파이프라인 컴파일 및 실행 "
   ]
  },
  {
   "cell_type": "markdown",
   "id": "8ed04463-fb47-4545-b7eb-bf2da744c6fb",
   "metadata": {},
   "source": [
    "파이프라인이 정의되면 컴파일할 준비가 된 것입니다. 다음은 파이프라인을 실행하는 데 사용할 JSON 파일을 생성합니다."
   ]
  },
  {
   "cell_type": "code",
   "execution_count": 12,
   "id": "869cac34-8476-4da6-b658-27e75dce0f57",
   "metadata": {},
   "outputs": [
    {
     "name": "stderr",
     "output_type": "stream",
     "text": [
      "/home/jupyter/.local/lib/python3.7/site-packages/kfp/v2/compiler/compiler.py:1266: FutureWarning: APIs imported from the v1 namespace (e.g. kfp.dsl, kfp.components, etc) will not be supported by the v2 compiler since v2.0.0\n",
      "  category=FutureWarning,\n"
     ]
    }
   ],
   "source": [
    "compiler.Compiler().compile(\n",
    "    pipeline_func=intro_pipeline, package_path=\"intro_pipeline_job.json\"\n",
    ")"
   ]
  },
  {
   "cell_type": "markdown",
   "id": "bb1d8534-df8c-4d03-b5cf-519cedab81b3",
   "metadata": {},
   "source": [
    "다음으로 `TIMESTAMP` 변수를 생성합니다. 우리는 이것을 작업 ID에서 사용할 것입니다"
   ]
  },
  {
   "cell_type": "code",
   "execution_count": 13,
   "id": "d33cd4e2-4b72-4ac9-bdfe-d5cdd8f9ad78",
   "metadata": {},
   "outputs": [],
   "source": [
    "from datetime import datetime\n",
    "\n",
    "TIMESTAMP = datetime.now().strftime(\"%Y%m%d%H%M%S\")"
   ]
  },
  {
   "cell_type": "markdown",
   "id": "c305a024-5746-4868-a9af-35e9d75a1fdb",
   "metadata": {},
   "source": [
    "그 다음 파이프라인 `job`을 정의합니다."
   ]
  },
  {
   "cell_type": "code",
   "execution_count": 14,
   "id": "dc63c7c2-299d-401e-a632-5937642b8ad0",
   "metadata": {},
   "outputs": [],
   "source": [
    "job = aiplatform.PipelineJob(\n",
    "    display_name=\"hello-world-pipeline\",\n",
    "    template_path=\"intro_pipeline_job.json\",\n",
    "    job_id=\"hello-world-pipeline-{0}\".format(TIMESTAMP),\n",
    "    enable_caching=True\n",
    ")"
   ]
  },
  {
   "cell_type": "markdown",
   "id": "4496ca06-41cf-4d49-afe9-90b5a4d74476",
   "metadata": {},
   "source": [
    "마지막으로 `submit`을 실행하여 새 파이프라인 실행을 생성합니다."
   ]
  },
  {
   "cell_type": "code",
   "execution_count": 15,
   "id": "e6795af6-6e20-4ded-b952-8851d7074fc9",
   "metadata": {},
   "outputs": [
    {
     "name": "stdout",
     "output_type": "stream",
     "text": [
      "INFO:google.cloud.aiplatform.pipeline_jobs:Creating PipelineJob\n",
      "INFO:google.cloud.aiplatform.pipeline_jobs:PipelineJob created. Resource name: projects/16539566961/locations/us-central1/pipelineJobs/hello-world-pipeline-20220922082602\n",
      "INFO:google.cloud.aiplatform.pipeline_jobs:To use this PipelineJob in another session:\n",
      "INFO:google.cloud.aiplatform.pipeline_jobs:pipeline_job = aiplatform.PipelineJob.get('projects/16539566961/locations/us-central1/pipelineJobs/hello-world-pipeline-20220922082602')\n",
      "INFO:google.cloud.aiplatform.pipeline_jobs:View Pipeline Job:\n",
      "https://console.cloud.google.com/vertex-ai/locations/us-central1/pipelines/runs/hello-world-pipeline-20220922082602?project=16539566961\n"
     ]
    }
   ],
   "source": [
    "job.submit()"
   ]
  },
  {
   "cell_type": "markdown",
   "id": "afa3b981-bf32-4e90-b307-67d262ce1926",
   "metadata": {},
   "source": [
    "## 6. End-to-End ML 파이프라인 생성 "
   ]
  },
  {
   "cell_type": "markdown",
   "id": "4ba4593a-d3f9-48d9-be58-5119a2c307ec",
   "metadata": {},
   "source": [
    "이제 첫 번째 ML 파이프라인을 구축할 때입니다. 이 파이프라인에서 우리는 UCI 머신러닝 [드라이 빈 데이터세트](https://archive.ics.uci.edu/ml/datasets/Dry+Bean+Dataset)를 사용할 것입니다.\n",
    "In Computers and Electronics in Agriculture, 174, 105507. DOI.\n",
    "\n",
    "이것은 테이블 형식의 데이터 세트이며 파이프라인에서 이 데이터 세트를 사용하여 특성에 따라 빈을 7가지 유형 중 하나로 분류하는 AutoML 모델을 훈련, 평가 및 배포합니다.\n",
    "\n",
    "이 파이프라인은 다음을 수행합니다.\n",
    "\n",
    "- Vertex AI에서 데이터 세트 생성\n",
    "- AutoML 을 사용하여 표 형식 분류 모델 학습\n",
    "- 이 모델에 대한 평가 측정항목 가져오기\n",
    "- 평가 메트릭을 기반으로 Vertex Pipelines에서 조건부 논리를 사용하여 모델을 배포할지 여부를 결정합니다.\n",
    "- 정점 예측 을 사용하여 엔드포인트에 모델 배포\n",
    "\n",
    "설명된 각 단계는 구성 요소가 됩니다. [`google_cloud_pipeline_components`](https://github.com/kubeflow/pipelines/tree/master/components/google-cloud) 대부분의 파이프라인 단계는 이 코드랩의 앞부분에서 가져온 라이브러리 를 통해 Vertex AI 서비스에 대해 사전 빌드된 구성 요소를 사용합니다 . 이 섹션에서는 먼저 하나의 사용자 지정 구성 요소를 정의합니다. 그런 다음 미리 빌드된 구성 요소를 사용하여 나머지 파이프라인 단계를 정의합니다. 사전 구축된 구성 요소를 사용하면 모델 교육 및 배포와 같은 Vertex AI 서비스에 더 쉽게 액세스할 수 있습니다.\n",
    "\n",
    "\n",
    "> 이 단계의 대부분은 이 파이프라인의 AutoML 학습 부분에 사용되며 약 1시간이 소요됩니다."
   ]
  },
  {
   "cell_type": "markdown",
   "id": "4177d5e8-c58e-486e-9816-52f4922ab9de",
   "metadata": {},
   "source": [
    "### 6.1 모델 평가를 위한 사용자 지정 컴포넌트\n",
    "\n",
    "우리가 정의할 사용자 지정 구성 요소는 모델 교육이 완료되면 파이프라인이 끝날 때 사용됩니다. 이 구성 요소는 몇 가지 작업을 수행합니다.\n",
    "\n",
    "- 학습된 AutoML 분류 모델에서 평가 측정항목 가져오기\n",
    "- 메트릭을 구문 분석하고 Vertex Pipelines UI에서 렌더링\n",
    "- 메트릭을 임계값과 비교하여 모델을 배포해야 하는지 여부를 결정합니다.\n",
    "\n",
    "구성요소를 정의하기 전에 입력 및 출력 매개변수를 이해합시다. 입력으로 이 파이프라인은 Cloud 프로젝트에 대한 일부 메타데이터, 학습된 결과 모델(이 구성요소는 나중에 정의함), 모델의 평가 측정항목 및 `thresholds_dict_str`. `thresholds_dict_str`파이프라인을 실행할 때 정의할 항목입니다 . 이 분류 모델의 경우 이것은 모델을 배포해야 하는 ROC 곡선 값 아래의 영역이 됩니다. 예를 들어 0.95를 전달하면 이 지표가 95%를 초과하는 경우에만 파이프라인이 모델을 배포하기를 원한다는 의미입니다.\n",
    "\n",
    "평가 구성 요소는 모델 배포 여부를 나타내는 문자열을 반환합니다. 노트북 셀에 다음을 추가하여 이 사용자 지정 구성 요소를 만듭니다.\n",
    "\n"
   ]
  },
  {
   "cell_type": "code",
   "execution_count": 16,
   "id": "4b0b4c17-5e55-4fed-9f53-6577f836fab6",
   "metadata": {},
   "outputs": [],
   "source": [
    "@component(\n",
    "    base_image=\"gcr.io/deeplearning-platform-release/tf2-cpu.2-3:latest\",\n",
    "    output_component_file=\"tabular_eval_component.yaml\",\n",
    "    packages_to_install=[\"google-cloud-aiplatform\"],\n",
    ")\n",
    "def classification_model_eval_metrics(\n",
    "    project: str,\n",
    "    location: str,  # \"us-central1\",\n",
    "    api_endpoint: str,  # \"us-central1-aiplatform.googleapis.com\",\n",
    "    thresholds_dict_str: str,\n",
    "    model: Input[Artifact],\n",
    "    metrics: Output[Metrics],\n",
    "    metricsc: Output[ClassificationMetrics],\n",
    ") -> NamedTuple(\"Outputs\", [(\"dep_decision\", str)]):  # Return parameter.\n",
    "\n",
    "    import json\n",
    "    import logging\n",
    "\n",
    "    from google.cloud import aiplatform as aip\n",
    "\n",
    "    # Fetch model eval info\n",
    "    def get_eval_info(client, model_name):\n",
    "        from google.protobuf.json_format import MessageToDict\n",
    "\n",
    "        response = client.list_model_evaluations(parent=model_name)\n",
    "        metrics_list = []\n",
    "        metrics_string_list = []\n",
    "        for evaluation in response:\n",
    "            print(\"model_evaluation\")\n",
    "            print(\" name:\", evaluation.name)\n",
    "            print(\" metrics_schema_uri:\", evaluation.metrics_schema_uri)\n",
    "            metrics = MessageToDict(evaluation._pb.metrics)\n",
    "            for metric in metrics.keys():\n",
    "                logging.info(\"metric: %s, value: %s\", metric, metrics[metric])\n",
    "            metrics_str = json.dumps(metrics)\n",
    "            metrics_list.append(metrics)\n",
    "            metrics_string_list.append(metrics_str)\n",
    "\n",
    "        return (\n",
    "            evaluation.name,\n",
    "            metrics_list,\n",
    "            metrics_string_list,\n",
    "        )\n",
    "\n",
    "    # Use the given metrics threshold(s) to determine whether the model is\n",
    "    # accurate enough to deploy.\n",
    "    def classification_thresholds_check(metrics_dict, thresholds_dict):\n",
    "        for k, v in thresholds_dict.items():\n",
    "            logging.info(\"k {}, v {}\".format(k, v))\n",
    "            if k in [\"auRoc\", \"auPrc\"]:  # higher is better\n",
    "                if metrics_dict[k] < v:  # if under threshold, don't deploy\n",
    "                    logging.info(\"{} < {}; returning False\".format(metrics_dict[k], v))\n",
    "                    return False\n",
    "        logging.info(\"threshold checks passed.\")\n",
    "        return True\n",
    "\n",
    "    def log_metrics(metrics_list, metricsc):\n",
    "        test_confusion_matrix = metrics_list[0][\"confusionMatrix\"]\n",
    "        logging.info(\"rows: %s\", test_confusion_matrix[\"rows\"])\n",
    "\n",
    "        # log the ROC curve\n",
    "        fpr = []\n",
    "        tpr = []\n",
    "        thresholds = []\n",
    "        for item in metrics_list[0][\"confidenceMetrics\"]:\n",
    "            fpr.append(item.get(\"falsePositiveRate\", 0.0))\n",
    "            tpr.append(item.get(\"recall\", 0.0))\n",
    "            thresholds.append(item.get(\"confidenceThreshold\", 0.0))\n",
    "        print(f\"fpr: {fpr}\")\n",
    "        print(f\"tpr: {tpr}\")\n",
    "        print(f\"thresholds: {thresholds}\")\n",
    "        metricsc.log_roc_curve(fpr, tpr, thresholds)\n",
    "\n",
    "        # log the confusion matrix\n",
    "        annotations = []\n",
    "        for item in test_confusion_matrix[\"annotationSpecs\"]:\n",
    "            annotations.append(item[\"displayName\"])\n",
    "        logging.info(\"confusion matrix annotations: %s\", annotations)\n",
    "        metricsc.log_confusion_matrix(\n",
    "            annotations,\n",
    "            test_confusion_matrix[\"rows\"],\n",
    "        )\n",
    "\n",
    "        # log textual metrics info as well\n",
    "        for metric in metrics_list[0].keys():\n",
    "            if metric != \"confidenceMetrics\":\n",
    "                val_string = json.dumps(metrics_list[0][metric])\n",
    "                metrics.log_metric(metric, val_string)\n",
    "        # metrics.metadata[\"model_type\"] = \"AutoML Tabular classification\"\n",
    "\n",
    "    logging.getLogger().setLevel(logging.INFO)\n",
    "    aip.init(project=project)\n",
    "    # extract the model resource name from the input Model Artifact\n",
    "    model_resource_path = model.metadata[\"resourceName\"]\n",
    "    logging.info(\"model path: %s\", model_resource_path)\n",
    "\n",
    "    client_options = {\"api_endpoint\": api_endpoint}\n",
    "    # Initialize client that will be used to create and send requests.\n",
    "    client = aip.gapic.ModelServiceClient(client_options=client_options)\n",
    "    eval_name, metrics_list, metrics_str_list = get_eval_info(\n",
    "        client, model_resource_path\n",
    "    )\n",
    "    logging.info(\"got evaluation name: %s\", eval_name)\n",
    "    logging.info(\"got metrics list: %s\", metrics_list)\n",
    "    log_metrics(metrics_list, metricsc)\n",
    "\n",
    "    thresholds_dict = json.loads(thresholds_dict_str)\n",
    "    deploy = classification_thresholds_check(metrics_list[0], thresholds_dict)\n",
    "    if deploy:\n",
    "        dep_decision = \"true\"\n",
    "    else:\n",
    "        dep_decision = \"false\"\n",
    "    logging.info(\"deployment decision is %s\", dep_decision)\n",
    "\n",
    "    return (dep_decision,)"
   ]
  },
  {
   "cell_type": "markdown",
   "id": "2c608653-4bfc-4c2d-9747-200d87de413b",
   "metadata": {},
   "source": [
    "### 6.2 Google Cloud Pre-built 컴포넌트 추가 \n",
    "이 단계에서는 나머지 파이프라인 구성 요소를 정의하고 모든 구성 요소가 서로 어떻게 맞는지 확인합니다. 먼저 타임스탬프를 사용하여 파이프라인 실행의 표시 이름을 정의합니다."
   ]
  },
  {
   "cell_type": "code",
   "execution_count": 18,
   "id": "30b9b4aa-0cdc-45bb-ae39-b0838ffda988",
   "metadata": {},
   "outputs": [
    {
     "name": "stdout",
     "output_type": "stream",
     "text": [
      "automl-beans1663836412\n"
     ]
    }
   ],
   "source": [
    "import time\n",
    "DISPLAY_NAME = 'automl-beans{}'.format(str(int(time.time())))\n",
    "print(DISPLAY_NAME)"
   ]
  },
  {
   "cell_type": "code",
   "execution_count": 19,
   "id": "8b36c0f5-d5ac-4ee9-b38e-f0377c0d03f9",
   "metadata": {},
   "outputs": [],
   "source": [
    "@pipeline(name=\"automl-tab-beans-training-v2\",\n",
    "                  pipeline_root=PIPELINE_ROOT)\n",
    "def pipeline(\n",
    "    bq_source: str = \"bq://aju-dev-demos.beans.beans1\",\n",
    "    display_name: str = DISPLAY_NAME,\n",
    "    project: str = PROJECT_ID,\n",
    "    gcp_region: str = \"us-central1\",\n",
    "    api_endpoint: str = \"us-central1-aiplatform.googleapis.com\",\n",
    "    thresholds_dict_str: str = '{\"auRoc\": 0.95}',\n",
    "):\n",
    "    dataset_create_op = gcc_aip.TabularDatasetCreateOp(\n",
    "        project=project, display_name=display_name, bq_source=bq_source\n",
    "    )\n",
    "\n",
    "    training_op = gcc_aip.AutoMLTabularTrainingJobRunOp(\n",
    "        project=project,\n",
    "        display_name=display_name,\n",
    "        optimization_prediction_type=\"classification\",\n",
    "        budget_milli_node_hours=1000,\n",
    "        column_transformations=[\n",
    "            {\"numeric\": {\"column_name\": \"Area\"}},\n",
    "            {\"numeric\": {\"column_name\": \"Perimeter\"}},\n",
    "            {\"numeric\": {\"column_name\": \"MajorAxisLength\"}},\n",
    "            {\"numeric\": {\"column_name\": \"MinorAxisLength\"}},\n",
    "            {\"numeric\": {\"column_name\": \"AspectRation\"}},\n",
    "            {\"numeric\": {\"column_name\": \"Eccentricity\"}},\n",
    "            {\"numeric\": {\"column_name\": \"ConvexArea\"}},\n",
    "            {\"numeric\": {\"column_name\": \"EquivDiameter\"}},\n",
    "            {\"numeric\": {\"column_name\": \"Extent\"}},\n",
    "            {\"numeric\": {\"column_name\": \"Solidity\"}},\n",
    "            {\"numeric\": {\"column_name\": \"roundness\"}},\n",
    "            {\"numeric\": {\"column_name\": \"Compactness\"}},\n",
    "            {\"numeric\": {\"column_name\": \"ShapeFactor1\"}},\n",
    "            {\"numeric\": {\"column_name\": \"ShapeFactor2\"}},\n",
    "            {\"numeric\": {\"column_name\": \"ShapeFactor3\"}},\n",
    "            {\"numeric\": {\"column_name\": \"ShapeFactor4\"}},\n",
    "            {\"categorical\": {\"column_name\": \"Class\"}},\n",
    "        ],\n",
    "        dataset=dataset_create_op.outputs[\"dataset\"],\n",
    "        target_column=\"Class\",\n",
    "    )\n",
    "    model_eval_task = classification_model_eval_metrics(\n",
    "        project,\n",
    "        gcp_region,\n",
    "        api_endpoint,\n",
    "        thresholds_dict_str,\n",
    "        training_op.outputs[\"model\"],\n",
    "    )\n",
    "\n",
    "    with dsl.Condition(\n",
    "        model_eval_task.outputs[\"dep_decision\"] == \"true\",\n",
    "        name=\"deploy_decision\",\n",
    "    ):\n",
    "\n",
    "        endpoint_op = gcc_aip.EndpointCreateOp(\n",
    "            project=project,\n",
    "            location=gcp_region,\n",
    "            display_name=\"train-automl-beans\",\n",
    "        )\n",
    "\n",
    "        gcc_aip.ModelDeployOp(\n",
    "            model=training_op.outputs[\"model\"],\n",
    "            endpoint=endpoint_op.outputs[\"endpoint\"],\n",
    "            dedicated_resources_min_replica_count=1,\n",
    "            dedicated_resources_max_replica_count=1,\n",
    "            dedicated_resources_machine_type=\"n1-standard-4\",\n",
    "        )"
   ]
  },
  {
   "cell_type": "markdown",
   "id": "2c4b9a53-2c34-4180-a697-52d23283d28b",
   "metadata": {},
   "source": [
    "이 코드에서 무슨 일이 일어나는지 봅시다:\n",
    "\n",
    "- 먼저 이전 파이프라인과 마찬가지로 이 파이프라인이 사용하는 입력 매개변수를 정의합니다. 파이프라인의 다른 단계의 출력에 의존하지 않으므로 수동으로 설정해야 합니다.\n",
    "- 파이프라인의 나머지 부분은 Vertex AI 서비스와 상호 작용하기 위해 [미리 빌드된 몇 가지 컴포넌트](https://cloud.google.com/vertex-ai/docs/gcpc-list)를 사용합니다.\n",
    "  - `TabularDatasetCreateOpCloud`: Storage 또는 BigQuery의 데이터 세트 소스가 제공된 Vertex AI에 테이블 형식 데이터 세트를 생성합니다. 이 파이프라인에서는 BigQuery 테이블 URL을 통해 데이터를 전달합니다.\n",
    "  - `AutoMLTabularTrainingJobRunOp`: 테이블 형식 데이터 세트에 대한 AutoML 학습 작업을 시작합니다. 모델 유형(이 경우 분류), 열의 일부 데이터, 훈련을 실행할 기간 및 데이터 세트에 대한 포인터를 포함하여 이 구성 요소에 몇 가지 구성 매개변수를 전달합니다. 이 구성 요소에 데이터 세트를 전달하기 위해 다음을 통해 이전 구성 요소 의 출력을 제공합니다. `dataset_create_op.outputs[\"dataset\"]`\n",
    "  - `EndpointCreateOpVertex`: AI Endpoint을 만듭니다. 이 단계에서 생성된 끝점은 다음 구성 요소에 대한 입력으로 전달됩니다.\n",
    "  - `ModelDeployOpVertex`: AI Endpoint에 주어진 모델을 배포합니다. 이 경우 이전 단계에서 생성된 엔드포인트를 사용합니다. 사용 가능한 추가 구성 옵션이 있지만 여기에서는 배포하려는 엔드포인트 머신 유형 및 모델을 제공합니다. 파이프라인에서 학습 단계의 출력에 액세스하여 모델을 전달합니다.\n",
    "  \n",
    "- 이 파이프라인은 또한 조건을 정의할 수 있는 Vertex Pipelines의 기능인 `조건 논리`와 해당 조건의 결과를 기반으로 하는 다양한 분기를 사용합니다. 파이프라인을 정의할 때 `thresholds_dict_str` 매개변수를 전달했음을 기억하십시오. 이것은 모델을 엔드포인트에 배포할지 여부를 결정하는 데 사용하는 정확도 임계값입니다. 이를 구현하기 위해 KFP SDK의 `Condition` 클래스를 사용합니다. 우리가 전달하는 조건은 이 코드랩의 앞부분에서 정의한 사용자 정의 평가 구성 요소의 출력입니다. 이 조건이 true이면 파이프라인은 계속해서 KFP SDK의 `deploy_op` 컴포넌트를 실행합니다. 정확도가 사전 정의된 임계값을 충족하지 않으면 파이프라인이 여기서 중지되고 모델을 배포하지 않습니다."
   ]
  },
  {
   "cell_type": "markdown",
   "id": "7824da3e-37e9-455b-87a4-e5a88402ea0a",
   "metadata": {},
   "source": [
    "### 6.3 End-to-End ML 파이프라인 컴파일 및 실행\n",
    "전체 파이프라인이 정의되면 컴파일할 시간입니다."
   ]
  },
  {
   "cell_type": "code",
   "execution_count": 20,
   "id": "93388bbe-0ed3-4eee-90c1-e90a71f7a4a6",
   "metadata": {},
   "outputs": [
    {
     "name": "stderr",
     "output_type": "stream",
     "text": [
      "/home/jupyter/.local/lib/python3.7/site-packages/kfp/v2/compiler/compiler.py:1266: FutureWarning: APIs imported from the v1 namespace (e.g. kfp.dsl, kfp.components, etc) will not be supported by the v2 compiler since v2.0.0\n",
      "  category=FutureWarning,\n"
     ]
    }
   ],
   "source": [
    "compiler.Compiler().compile(\n",
    "    pipeline_func=pipeline, package_path=\"tab_classif_pipeline.json\"\n",
    ")"
   ]
  },
  {
   "cell_type": "markdown",
   "id": "71836ba0-bc0f-4ce2-9d16-24a1b4d1747b",
   "metadata": {},
   "source": [
    "다음으로 `job`을 정의합니다."
   ]
  },
  {
   "cell_type": "code",
   "execution_count": 21,
   "id": "4e15391f-bebd-41f3-be4d-862ff4f17da4",
   "metadata": {},
   "outputs": [],
   "source": [
    "ml_pipeline_job = aiplatform.PipelineJob(\n",
    "    display_name=\"automl-tab-beans-training\",\n",
    "    template_path=\"tab_classif_pipeline.json\",\n",
    "    pipeline_root=PIPELINE_ROOT,\n",
    "    parameter_values={\"project\": PROJECT_ID, \"display_name\": DISPLAY_NAME},\n",
    "    enable_caching=True\n",
    ")"
   ]
  },
  {
   "cell_type": "markdown",
   "id": "01c2a8f1-fb9a-439d-a377-eadbde7b8ee4",
   "metadata": {},
   "source": [
    "마지막으로 job을 실행합니다."
   ]
  },
  {
   "cell_type": "code",
   "execution_count": 22,
   "id": "bfb530a3-60af-4d80-aa88-a65fd8f17d74",
   "metadata": {},
   "outputs": [
    {
     "name": "stdout",
     "output_type": "stream",
     "text": [
      "INFO:google.cloud.aiplatform.pipeline_jobs:Creating PipelineJob\n",
      "INFO:google.cloud.aiplatform.pipeline_jobs:PipelineJob created. Resource name: projects/16539566961/locations/us-central1/pipelineJobs/automl-tab-beans-training-v2-20220922085105\n",
      "INFO:google.cloud.aiplatform.pipeline_jobs:To use this PipelineJob in another session:\n",
      "INFO:google.cloud.aiplatform.pipeline_jobs:pipeline_job = aiplatform.PipelineJob.get('projects/16539566961/locations/us-central1/pipelineJobs/automl-tab-beans-training-v2-20220922085105')\n",
      "INFO:google.cloud.aiplatform.pipeline_jobs:View Pipeline Job:\n",
      "https://console.cloud.google.com/vertex-ai/locations/us-central1/pipelines/runs/automl-tab-beans-training-v2-20220922085105?project=16539566961\n"
     ]
    }
   ],
   "source": [
    "ml_pipeline_job.submit()"
   ]
  },
  {
   "cell_type": "markdown",
   "id": "ca190e15-6ca8-4423-8602-a0075f033d38",
   "metadata": {},
   "source": [
    "콘솔에서 파이프라인을 보려면 위의 셀을 실행한 후 로그에 표시된 링크로 이동하십시오. 이 파이프라인을 실행하는 데 1시간이 조금 넘게 걸립니다. 대부분의 시간은 AutoML 학습 단계에서 소비됩니다. 완성된 파이프라인은 다음과 같습니다.\n",
    "\n",
    "![](https://codelabs.developers.google.com/static/vertex-pipelines-intro/img/e2epipeline.png)\n",
    "\n",
    "상단의 \"아티팩트 확장\" 버튼을 토글하면 파이프라인에서 생성된 다양한 아티팩트에 대한 세부 정보를 볼 수 있습니다. 예를 들어 dataset아티팩트를 클릭하면 생성된 Vertex AI 데이터 세트에 대한 세부 정보가 표시됩니다. 여기에서 링크를 클릭하면 해당 데이터세트에 대한 페이지로 이동할 수 있습니다."
   ]
  },
  {
   "cell_type": "markdown",
   "id": "a6c70724-c8a1-4249-bab6-82bcae272ece",
   "metadata": {},
   "source": [
    "### 6.4 파이프라인 실행 간 메트릭 비교\n",
    "이 파이프라인을 여러 번 실행하는 경우 실행 간에 메트릭을 비교할 수 있습니다. 메소드를 사용하여 `aiplatform.get_pipeline_df()` 실행 메타데이터에 액세스할 수 있습니다. 여기에서 이 파이프라인의 모든 실행에 대한 메타데이터를 가져와 Pandas DataFrame에 로드합니다."
   ]
  },
  {
   "cell_type": "code",
   "execution_count": 23,
   "id": "61f6eb42-860c-49b2-bb9a-167cf25b8be5",
   "metadata": {},
   "outputs": [
    {
     "data": {
      "text/html": [
       "<div>\n",
       "<style scoped>\n",
       "    .dataframe tbody tr th:only-of-type {\n",
       "        vertical-align: middle;\n",
       "    }\n",
       "\n",
       "    .dataframe tbody tr th {\n",
       "        vertical-align: top;\n",
       "    }\n",
       "\n",
       "    .dataframe thead th {\n",
       "        text-align: right;\n",
       "    }\n",
       "</style>\n",
       "<table border=\"1\" class=\"dataframe\">\n",
       "  <thead>\n",
       "    <tr style=\"text-align: right;\">\n",
       "      <th></th>\n",
       "      <th>pipeline_name</th>\n",
       "      <th>run_name</th>\n",
       "      <th>param.input:project</th>\n",
       "      <th>param.input:api_endpoint</th>\n",
       "      <th>param.input:display_name</th>\n",
       "      <th>param.input:bq_source</th>\n",
       "      <th>param.input:gcp_region</th>\n",
       "      <th>param.input:thresholds_dict_str</th>\n",
       "    </tr>\n",
       "  </thead>\n",
       "  <tbody>\n",
       "    <tr>\n",
       "      <th>0</th>\n",
       "      <td>automl-tab-beans-training-v2</td>\n",
       "      <td>automl-tab-beans-training-v2-20220922085105</td>\n",
       "      <td>seventh-jet-360700</td>\n",
       "      <td>us-central1-aiplatform.googleapis.com</td>\n",
       "      <td>automl-beans1663836412</td>\n",
       "      <td>bq://aju-dev-demos.beans.beans1</td>\n",
       "      <td>us-central1</td>\n",
       "      <td>{\"auRoc\": 0.95}</td>\n",
       "    </tr>\n",
       "  </tbody>\n",
       "</table>\n",
       "</div>"
      ],
      "text/plain": [
       "                  pipeline_name                                     run_name  \\\n",
       "0  automl-tab-beans-training-v2  automl-tab-beans-training-v2-20220922085105   \n",
       "\n",
       "  param.input:project               param.input:api_endpoint  \\\n",
       "0  seventh-jet-360700  us-central1-aiplatform.googleapis.com   \n",
       "\n",
       "  param.input:display_name            param.input:bq_source  \\\n",
       "0   automl-beans1663836412  bq://aju-dev-demos.beans.beans1   \n",
       "\n",
       "  param.input:gcp_region param.input:thresholds_dict_str  \n",
       "0            us-central1                 {\"auRoc\": 0.95}  "
      ]
     },
     "execution_count": 23,
     "metadata": {},
     "output_type": "execute_result"
    }
   ],
   "source": [
    "pipeline_df = aiplatform.get_pipeline_df(pipeline=\"automl-tab-beans-training-v2\")\n",
    "small_pipeline_df = pipeline_df.head(2)\n",
    "small_pipeline_df"
   ]
  },
  {
   "cell_type": "markdown",
   "id": "195f7c1f-6151-456d-be6e-188f6f3d7201",
   "metadata": {},
   "source": [
    "Vertex AI를 사용하여 다음을 수행하는 방법을 배웠습니다.\n",
    "\n",
    "- Kubeflow Pipelines SDK를 사용하여 사용자 지정 구성 요소로 종단 간 파이프라인 구축\n",
    "- Vertex Pipelines에서 파이프라인을 실행하고 SDK로 파이프라인 실행 시작\n",
    "- 콘솔에서 정점 파이프라인 그래프 보기 및 분석\n",
    "- 미리 빌드된 파이프라인 구성 요소를 사용하여 파이프라인에 Vertex AI 서비스 추가\n",
    "- 반복되는 파이프라인 작업 예약"
   ]
  }
 ],
 "metadata": {
  "kernelspec": {
   "display_name": "Python (Local)",
   "language": "python",
   "name": "local-base"
  },
  "language_info": {
   "codemirror_mode": {
    "name": "ipython",
    "version": 3
   },
   "file_extension": ".py",
   "mimetype": "text/x-python",
   "name": "python",
   "nbconvert_exporter": "python",
   "pygments_lexer": "ipython3",
   "version": "3.7.12"
  }
 },
 "nbformat": 4,
 "nbformat_minor": 5
}
